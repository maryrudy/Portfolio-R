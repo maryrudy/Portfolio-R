{
 "cells": [
  {
   "cell_type": "markdown",
   "metadata": {},
   "source": [
    "#  Impact of Various Factors on Department Sales"
   ]
  },
  {
   "cell_type": "markdown",
   "metadata": {
    "collapsed": true
   },
   "source": [
    "The purpose of this analysis is to determine what factors affect different departments' sales for a large corporation. The corporation\n",
    "provided 34 months total of sales data, as well as its number of employees (WORKPEOPLE) and total number of work hours (WORKHOURS) each month. \n",
    "\n",
    "The company is the Adhesive Manufacturing Industry, so I added external variables identified by IBIS World Report\n",
    "as key external drivers to the industry. These variables included Industrial Production Index (IPI), Plastic Price Index (PLASTICPRICE), Value of Construction(CONSTRUCTION), New Car Sales (CARSALES), Inflation Rates (INFLATION), and Crude Oil Price (Crude.Oil.Price).\n"
   ]
  },
  {
   "cell_type": "markdown",
   "metadata": {},
   "source": [
    "## Load Data"
   ]
  },
  {
   "cell_type": "code",
   "execution_count": 289,
   "metadata": {
    "collapsed": true
   },
   "outputs": [],
   "source": [
    "df <- data.frame(read.csv('../../../datasets/TempData/Departments.csv'))"
   ]
  },
  {
   "cell_type": "markdown",
   "metadata": {},
   "source": [
    "## Analysis\n"
   ]
  },
  {
   "cell_type": "code",
   "execution_count": 290,
   "metadata": {},
   "outputs": [
    {
     "data": {
      "text/html": [
       "<table>\n",
       "<thead><tr><th scope=col>IP</th><th scope=col>IPI</th><th scope=col>PLASTICPRICE</th><th scope=col>CONSTRUCTION</th><th scope=col>CARSALES</th><th scope=col>WORKPEOPLE</th><th scope=col>WORKHOURS</th><th scope=col>INFLATION</th><th scope=col>Crude.Oil.Price</th><th scope=col>Unemployment.Level</th><th scope=col>⋯</th><th scope=col>N_Sales</th><th scope=col>X.2</th><th scope=col>O_Sales</th><th scope=col>X.3</th><th scope=col>R_Sales</th><th scope=col>X.4</th><th scope=col>S_Sales</th><th scope=col>TotalSales10</th><th scope=col>SalesGrowth10</th><th scope=col>PercentGrowth10</th></tr></thead>\n",
       "<tbody>\n",
       "\t<tr><td>14-Feb    </td><td>102.4     </td><td>297.8     </td><td> 984715   </td><td>16.0      </td><td>12110     </td><td>40.7      </td><td> 0.0037   </td><td>100.82    </td><td>6.7       </td><td>⋯         </td><td>2055422   </td><td>NA        </td><td>3665798   </td><td>NA        </td><td>18597363  </td><td>NA        </td><td>1892700   </td><td>70044611  </td><td>        NA</td><td>NA        </td></tr>\n",
       "\t<tr><td>14-Mar    </td><td>103.2     </td><td>300.0     </td><td> 993293   </td><td>17.0      </td><td>12125     </td><td>41.0      </td><td> 0.0064   </td><td>100.80    </td><td>6.7       </td><td>⋯         </td><td>2327861   </td><td>NA        </td><td>2884924   </td><td>NA        </td><td>21015048  </td><td>NA        </td><td>1971790   </td><td>69055664  </td><td> -988946.9</td><td>NA        </td></tr>\n",
       "\t<tr><td>14-Apr    </td><td>104.0     </td><td>301.1     </td><td>1002975   </td><td>16.6      </td><td>12142     </td><td>40.9      </td><td> 0.0033   </td><td>102.07    </td><td>6.2       </td><td>⋯         </td><td>2943779   </td><td>NA        </td><td>3281111   </td><td>NA        </td><td>21526542  </td><td>NA        </td><td>2228025   </td><td>77869424  </td><td> 8813760.0</td><td>NA        </td></tr>\n",
       "\t<tr><td>14-May    </td><td>104.1     </td><td>300.5     </td><td>1004783   </td><td>17.0      </td><td>12150     </td><td>41.1      </td><td> 0.0035   </td><td>102.18    </td><td>6.3       </td><td>⋯         </td><td>2546616   </td><td>NA        </td><td>3187494   </td><td>NA        </td><td>21418203  </td><td>NA        </td><td>2448880   </td><td>76495850  </td><td>-1373574.5</td><td>NA        </td></tr>\n",
       "\t<tr><td>14-Jun    </td><td>104.5     </td><td>298.2     </td><td>1003922   </td><td>17.2      </td><td>12171     </td><td>41.0      </td><td> 0.0019   </td><td>105.79    </td><td>6.1       </td><td>⋯         </td><td>2482755   </td><td>NA        </td><td>2811595   </td><td>NA        </td><td>21655457  </td><td>NA        </td><td>2403115   </td><td>75743957  </td><td> -751893.2</td><td>NA        </td></tr>\n",
       "\t<tr><td>14-Jul    </td><td>104.9     </td><td>300.2     </td><td>1004153   </td><td>17.0      </td><td>12184     </td><td>40.9      </td><td>-0.0004   </td><td>103.59    </td><td>6.2       </td><td>⋯         </td><td>2520978   </td><td>NA        </td><td>3384206   </td><td>NA        </td><td>23040756  </td><td>NA        </td><td>2598298   </td><td>78021594  </td><td> 2277637.3</td><td>NA        </td></tr>\n",
       "</tbody>\n",
       "</table>\n"
      ],
      "text/latex": [
       "\\begin{tabular}{r|lllllllllllllllllllllllllllllllllllllllllllll}\n",
       " IP & IPI & PLASTICPRICE & CONSTRUCTION & CARSALES & WORKPEOPLE & WORKHOURS & INFLATION & Crude.Oil.Price & Unemployment.Level & ⋯ & N\\_Sales & X.2 & O\\_Sales & X.3 & R\\_Sales & X.4 & S\\_Sales & TotalSales10 & SalesGrowth10 & PercentGrowth10\\\\\n",
       "\\hline\n",
       "\t 14-Feb     & 102.4      & 297.8      &  984715    & 16.0       & 12110      & 40.7       &  0.0037    & 100.82     & 6.7        & ⋯          & 2055422    & NA         & 3665798    & NA         & 18597363   & NA         & 1892700    & 70044611   &         NA & NA        \\\\\n",
       "\t 14-Mar     & 103.2      & 300.0      &  993293    & 17.0       & 12125      & 41.0       &  0.0064    & 100.80     & 6.7        & ⋯          & 2327861    & NA         & 2884924    & NA         & 21015048   & NA         & 1971790    & 69055664   &  -988946.9 & NA        \\\\\n",
       "\t 14-Apr     & 104.0      & 301.1      & 1002975    & 16.6       & 12142      & 40.9       &  0.0033    & 102.07     & 6.2        & ⋯          & 2943779    & NA         & 3281111    & NA         & 21526542   & NA         & 2228025    & 77869424   &  8813760.0 & NA        \\\\\n",
       "\t 14-May     & 104.1      & 300.5      & 1004783    & 17.0       & 12150      & 41.1       &  0.0035    & 102.18     & 6.3        & ⋯          & 2546616    & NA         & 3187494    & NA         & 21418203   & NA         & 2448880    & 76495850   & -1373574.5 & NA        \\\\\n",
       "\t 14-Jun     & 104.5      & 298.2      & 1003922    & 17.2       & 12171      & 41.0       &  0.0019    & 105.79     & 6.1        & ⋯          & 2482755    & NA         & 2811595    & NA         & 21655457   & NA         & 2403115    & 75743957   &  -751893.2 & NA        \\\\\n",
       "\t 14-Jul     & 104.9      & 300.2      & 1004153    & 17.0       & 12184      & 40.9       & -0.0004    & 103.59     & 6.2        & ⋯          & 2520978    & NA         & 3384206    & NA         & 23040756   & NA         & 2598298    & 78021594   &  2277637.3 & NA        \\\\\n",
       "\\end{tabular}\n"
      ],
      "text/markdown": [
       "\n",
       "IP | IPI | PLASTICPRICE | CONSTRUCTION | CARSALES | WORKPEOPLE | WORKHOURS | INFLATION | Crude.Oil.Price | Unemployment.Level | ⋯ | N_Sales | X.2 | O_Sales | X.3 | R_Sales | X.4 | S_Sales | TotalSales10 | SalesGrowth10 | PercentGrowth10 | \n",
       "|---|---|---|---|---|---|\n",
       "| 14-Feb     | 102.4      | 297.8      |  984715    | 16.0       | 12110      | 40.7       |  0.0037    | 100.82     | 6.7        | ⋯          | 2055422    | NA         | 3665798    | NA         | 18597363   | NA         | 1892700    | 70044611   |         NA | NA         | \n",
       "| 14-Mar     | 103.2      | 300.0      |  993293    | 17.0       | 12125      | 41.0       |  0.0064    | 100.80     | 6.7        | ⋯          | 2327861    | NA         | 2884924    | NA         | 21015048   | NA         | 1971790    | 69055664   |  -988946.9 | NA         | \n",
       "| 14-Apr     | 104.0      | 301.1      | 1002975    | 16.6       | 12142      | 40.9       |  0.0033    | 102.07     | 6.2        | ⋯          | 2943779    | NA         | 3281111    | NA         | 21526542   | NA         | 2228025    | 77869424   |  8813760.0 | NA         | \n",
       "| 14-May     | 104.1      | 300.5      | 1004783    | 17.0       | 12150      | 41.1       |  0.0035    | 102.18     | 6.3        | ⋯          | 2546616    | NA         | 3187494    | NA         | 21418203   | NA         | 2448880    | 76495850   | -1373574.5 | NA         | \n",
       "| 14-Jun     | 104.5      | 298.2      | 1003922    | 17.2       | 12171      | 41.0       |  0.0019    | 105.79     | 6.1        | ⋯          | 2482755    | NA         | 2811595    | NA         | 21655457   | NA         | 2403115    | 75743957   |  -751893.2 | NA         | \n",
       "| 14-Jul     | 104.9      | 300.2      | 1004153    | 17.0       | 12184      | 40.9       | -0.0004    | 103.59     | 6.2        | ⋯          | 2520978    | NA         | 3384206    | NA         | 23040756   | NA         | 2598298    | 78021594   |  2277637.3 | NA         | \n",
       "\n",
       "\n"
      ],
      "text/plain": [
       "  IP     IPI   PLASTICPRICE CONSTRUCTION CARSALES WORKPEOPLE WORKHOURS\n",
       "1 14-Feb 102.4 297.8         984715      16.0     12110      40.7     \n",
       "2 14-Mar 103.2 300.0         993293      17.0     12125      41.0     \n",
       "3 14-Apr 104.0 301.1        1002975      16.6     12142      40.9     \n",
       "4 14-May 104.1 300.5        1004783      17.0     12150      41.1     \n",
       "5 14-Jun 104.5 298.2        1003922      17.2     12171      41.0     \n",
       "6 14-Jul 104.9 300.2        1004153      17.0     12184      40.9     \n",
       "  INFLATION Crude.Oil.Price Unemployment.Level ⋯ N_Sales X.2 O_Sales X.3\n",
       "1  0.0037   100.82          6.7                ⋯ 2055422 NA  3665798 NA \n",
       "2  0.0064   100.80          6.7                ⋯ 2327861 NA  2884924 NA \n",
       "3  0.0033   102.07          6.2                ⋯ 2943779 NA  3281111 NA \n",
       "4  0.0035   102.18          6.3                ⋯ 2546616 NA  3187494 NA \n",
       "5  0.0019   105.79          6.1                ⋯ 2482755 NA  2811595 NA \n",
       "6 -0.0004   103.59          6.2                ⋯ 2520978 NA  3384206 NA \n",
       "  R_Sales  X.4 S_Sales TotalSales10 SalesGrowth10 PercentGrowth10\n",
       "1 18597363 NA  1892700 70044611             NA    NA             \n",
       "2 21015048 NA  1971790 69055664      -988946.9    NA             \n",
       "3 21526542 NA  2228025 77869424      8813760.0    NA             \n",
       "4 21418203 NA  2448880 76495850     -1373574.5    NA             \n",
       "5 21655457 NA  2403115 75743957      -751893.2    NA             \n",
       "6 23040756 NA  2598298 78021594      2277637.3    NA             "
      ]
     },
     "metadata": {},
     "output_type": "display_data"
    }
   ],
   "source": [
    "head(df)"
   ]
  },
  {
   "cell_type": "code",
   "execution_count": 291,
   "metadata": {},
   "outputs": [
    {
     "name": "stdout",
     "output_type": "stream",
     "text": [
      " [1] \"IP\"                        \"IPI\"                      \n",
      " [3] \"PLASTICPRICE\"              \"CONSTRUCTION\"             \n",
      " [5] \"CARSALES\"                  \"WORKPEOPLE\"               \n",
      " [7] \"WORKHOURS\"                 \"INFLATION\"                \n",
      " [9] \"Crude.Oil.Price\"           \"Unemployment.Level\"       \n",
      "[11] \"SALES\"                     \"SALES.CHANGES\"            \n",
      "[13] \"Category\"                  \"car.sales.change\"         \n",
      "[15] \"total.sales.growth\"        \"IPI.Change\"               \n",
      "[17] \"Plastic.Price.Change\"      \"CONSTRUCTION.Change\"      \n",
      "[19] \"Car.sales.change\"          \"WORKPEOPLE.Change\"        \n",
      "[21] \"WORKHOURS.Change\"          \"Crude.Oil.Price.Change\"   \n",
      "[23] \"Unemployment.Level.Change\" \"B_Sales\"                  \n",
      "[25] \"BSalesGrowth\"              \"C_Sales\"                  \n",
      "[27] \"CSalesGrowth\"              \"E_Sales\"                  \n",
      "[29] \"ESalesGrowth\"              \"H_Sales\"                  \n",
      "[31] \"HSalesGrowth\"              \"J_Sales\"                  \n",
      "[33] \"X\"                         \"K_Sales\"                  \n",
      "[35] \"X.1\"                       \"N_Sales\"                  \n",
      "[37] \"X.2\"                       \"O_Sales\"                  \n",
      "[39] \"X.3\"                       \"R_Sales\"                  \n",
      "[41] \"X.4\"                       \"S_Sales\"                  \n",
      "[43] \"TotalSales10\"              \"SalesGrowth10\"            \n",
      "[45] \"PercentGrowth10\"          \n"
     ]
    }
   ],
   "source": [
    "print(colnames(df))"
   ]
  },
  {
   "cell_type": "markdown",
   "metadata": {},
   "source": [
    "There are quite a few columns. In this scenario, I am interested in  exploring the affects of the external drivers (as well as the two internal drivers of workpeople and workhours) on the sales of each department. For the simplicity of this demonstration, I will only show my analysis for Department H."
   ]
  },
  {
   "cell_type": "code",
   "execution_count": 292,
   "metadata": {},
   "outputs": [
    {
     "data": {
      "text/html": [
       "<table>\n",
       "<thead><tr><th scope=col>IPI</th><th scope=col>PLASTICPRICE</th><th scope=col>CONSTRUCTION</th><th scope=col>CARSALES</th><th scope=col>WORKPEOPLE</th><th scope=col>WORKHOURS</th><th scope=col>INFLATION</th><th scope=col>Crude.Oil.Price</th><th scope=col>Unemployment.Level</th><th scope=col>H_Sales</th></tr></thead>\n",
       "<tbody>\n",
       "\t<tr><td>102.4  </td><td>297.8  </td><td> 984715</td><td>16.0   </td><td>12110  </td><td>40.7   </td><td> 0.0037</td><td>100.82 </td><td>6.7    </td><td>2539958</td></tr>\n",
       "\t<tr><td>103.2  </td><td>300.0  </td><td> 993293</td><td>17.0   </td><td>12125  </td><td>41.0   </td><td> 0.0064</td><td>100.80 </td><td>6.7    </td><td>1920039</td></tr>\n",
       "\t<tr><td>104.0  </td><td>301.1  </td><td>1002975</td><td>16.6   </td><td>12142  </td><td>40.9   </td><td> 0.0033</td><td>102.07 </td><td>6.2    </td><td>2534601</td></tr>\n",
       "\t<tr><td>104.1  </td><td>300.5  </td><td>1004783</td><td>17.0   </td><td>12150  </td><td>41.1   </td><td> 0.0035</td><td>102.18 </td><td>6.3    </td><td>2471810</td></tr>\n",
       "\t<tr><td>104.5  </td><td>298.2  </td><td>1003922</td><td>17.2   </td><td>12171  </td><td>41.0   </td><td> 0.0019</td><td>105.79 </td><td>6.1    </td><td>1864265</td></tr>\n",
       "\t<tr><td>104.9  </td><td>300.2  </td><td>1004153</td><td>17.0   </td><td>12184  </td><td>40.9   </td><td>-0.0004</td><td>103.59 </td><td>6.2    </td><td>2177834</td></tr>\n",
       "</tbody>\n",
       "</table>\n"
      ],
      "text/latex": [
       "\\begin{tabular}{r|llllllllll}\n",
       " IPI & PLASTICPRICE & CONSTRUCTION & CARSALES & WORKPEOPLE & WORKHOURS & INFLATION & Crude.Oil.Price & Unemployment.Level & H\\_Sales\\\\\n",
       "\\hline\n",
       "\t 102.4   & 297.8   &  984715 & 16.0    & 12110   & 40.7    &  0.0037 & 100.82  & 6.7     & 2539958\\\\\n",
       "\t 103.2   & 300.0   &  993293 & 17.0    & 12125   & 41.0    &  0.0064 & 100.80  & 6.7     & 1920039\\\\\n",
       "\t 104.0   & 301.1   & 1002975 & 16.6    & 12142   & 40.9    &  0.0033 & 102.07  & 6.2     & 2534601\\\\\n",
       "\t 104.1   & 300.5   & 1004783 & 17.0    & 12150   & 41.1    &  0.0035 & 102.18  & 6.3     & 2471810\\\\\n",
       "\t 104.5   & 298.2   & 1003922 & 17.2    & 12171   & 41.0    &  0.0019 & 105.79  & 6.1     & 1864265\\\\\n",
       "\t 104.9   & 300.2   & 1004153 & 17.0    & 12184   & 40.9    & -0.0004 & 103.59  & 6.2     & 2177834\\\\\n",
       "\\end{tabular}\n"
      ],
      "text/markdown": [
       "\n",
       "IPI | PLASTICPRICE | CONSTRUCTION | CARSALES | WORKPEOPLE | WORKHOURS | INFLATION | Crude.Oil.Price | Unemployment.Level | H_Sales | \n",
       "|---|---|---|---|---|---|\n",
       "| 102.4   | 297.8   |  984715 | 16.0    | 12110   | 40.7    |  0.0037 | 100.82  | 6.7     | 2539958 | \n",
       "| 103.2   | 300.0   |  993293 | 17.0    | 12125   | 41.0    |  0.0064 | 100.80  | 6.7     | 1920039 | \n",
       "| 104.0   | 301.1   | 1002975 | 16.6    | 12142   | 40.9    |  0.0033 | 102.07  | 6.2     | 2534601 | \n",
       "| 104.1   | 300.5   | 1004783 | 17.0    | 12150   | 41.1    |  0.0035 | 102.18  | 6.3     | 2471810 | \n",
       "| 104.5   | 298.2   | 1003922 | 17.2    | 12171   | 41.0    |  0.0019 | 105.79  | 6.1     | 1864265 | \n",
       "| 104.9   | 300.2   | 1004153 | 17.0    | 12184   | 40.9    | -0.0004 | 103.59  | 6.2     | 2177834 | \n",
       "\n",
       "\n"
      ],
      "text/plain": [
       "  IPI   PLASTICPRICE CONSTRUCTION CARSALES WORKPEOPLE WORKHOURS INFLATION\n",
       "1 102.4 297.8         984715      16.0     12110      40.7       0.0037  \n",
       "2 103.2 300.0         993293      17.0     12125      41.0       0.0064  \n",
       "3 104.0 301.1        1002975      16.6     12142      40.9       0.0033  \n",
       "4 104.1 300.5        1004783      17.0     12150      41.1       0.0035  \n",
       "5 104.5 298.2        1003922      17.2     12171      41.0       0.0019  \n",
       "6 104.9 300.2        1004153      17.0     12184      40.9      -0.0004  \n",
       "  Crude.Oil.Price Unemployment.Level H_Sales\n",
       "1 100.82          6.7                2539958\n",
       "2 100.80          6.7                1920039\n",
       "3 102.07          6.2                2534601\n",
       "4 102.18          6.3                2471810\n",
       "5 105.79          6.1                1864265\n",
       "6 103.59          6.2                2177834"
      ]
     },
     "metadata": {},
     "output_type": "display_data"
    }
   ],
   "source": [
    "myvars <- names(df) %in% c(\"IPI\",\"PLASTICPRICE\",\"CONSTRUCTION\",\"CARSALES\",\"WORKPEOPLE\",\"WORKHOURS\",\"INFLATION\",\"Crude.Oil.Price\",\"Unemployment.Level\",\"H_Sales\") \n",
    "\n",
    "newdata <-df[myvars]\n",
    "\n",
    "head(newdata)"
   ]
  },
  {
   "cell_type": "markdown",
   "metadata": {},
   "source": [
    "Before running a regression, I need to check the correlation of the variables."
   ]
  },
  {
   "cell_type": "code",
   "execution_count": 293,
   "metadata": {},
   "outputs": [
    {
     "data": {
      "text/html": [
       "<table>\n",
       "<thead><tr><th></th><th scope=col>IPI</th><th scope=col>PLASTICPRICE</th><th scope=col>CONSTRUCTION</th><th scope=col>CARSALES</th><th scope=col>WORKPEOPLE</th><th scope=col>WORKHOURS</th><th scope=col>INFLATION</th><th scope=col>Crude.Oil.Price</th><th scope=col>Unemployment.Level</th><th scope=col>H_Sales</th></tr></thead>\n",
       "<tbody>\n",
       "\t<tr><th scope=row>IPI</th><td> 1.00000000</td><td> 0.1797738 </td><td>-0.08641423</td><td> 0.2061344 </td><td> 0.2787484 </td><td> 0.3256952 </td><td>-0.51585330</td><td>-0.1602253 </td><td>-0.08889819</td><td> 0.11507664</td></tr>\n",
       "\t<tr><th scope=row>PLASTICPRICE</th><td> 0.17977382</td><td> 1.0000000 </td><td>-0.94216934</td><td>-0.6953348 </td><td>-0.8529924 </td><td> 0.8242110 </td><td>-0.13181996</td><td> 0.8961231 </td><td> 0.90661040</td><td> 0.77254216</td></tr>\n",
       "\t<tr><th scope=row>CONSTRUCTION</th><td>-0.08641423</td><td>-0.9421693 </td><td> 1.00000000</td><td> 0.7417199 </td><td> 0.8729598 </td><td>-0.7849093 </td><td>-0.01076630</td><td>-0.8639185 </td><td>-0.95187035</td><td>-0.78978402</td></tr>\n",
       "\t<tr><th scope=row>CARSALES</th><td> 0.20613438</td><td>-0.6953348 </td><td> 0.74171986</td><td> 1.0000000 </td><td> 0.7208426 </td><td>-0.4707664 </td><td>-0.21014871</td><td>-0.6631991 </td><td>-0.73521599</td><td>-0.62430827</td></tr>\n",
       "\t<tr><th scope=row>WORKPEOPLE</th><td> 0.27874844</td><td>-0.8529924 </td><td> 0.87295977</td><td> 0.7208426 </td><td> 1.0000000 </td><td>-0.6480955 </td><td>-0.16707042</td><td>-0.9553278 </td><td>-0.92742435</td><td>-0.67956966</td></tr>\n",
       "\t<tr><th scope=row>WORKHOURS</th><td> 0.32569524</td><td> 0.8242110 </td><td>-0.78490925</td><td>-0.4707664 </td><td>-0.6480955 </td><td> 1.0000000 </td><td>-0.16725331</td><td> 0.6883196 </td><td> 0.71131333</td><td> 0.64225387</td></tr>\n",
       "\t<tr><th scope=row>INFLATION</th><td>-0.51585330</td><td>-0.1318200 </td><td>-0.01076630</td><td>-0.2101487 </td><td>-0.1670704 </td><td>-0.1672533 </td><td> 1.00000000</td><td> 0.1120667 </td><td> 0.12306725</td><td>-0.04203784</td></tr>\n",
       "\t<tr><th scope=row>Crude.Oil.Price</th><td>-0.16022534</td><td> 0.8961231 </td><td>-0.86391853</td><td>-0.6631991 </td><td>-0.9553278 </td><td> 0.6883196 </td><td> 0.11206671</td><td> 1.0000000 </td><td> 0.90312551</td><td> 0.64260285</td></tr>\n",
       "\t<tr><th scope=row>Unemployment.Level</th><td>-0.08889819</td><td> 0.9066104 </td><td>-0.95187035</td><td>-0.7352160 </td><td>-0.9274244 </td><td> 0.7113133 </td><td> 0.12306725</td><td> 0.9031255 </td><td> 1.00000000</td><td> 0.76712244</td></tr>\n",
       "\t<tr><th scope=row>H_Sales</th><td> 0.11507664</td><td> 0.7725422 </td><td>-0.78978402</td><td>-0.6243083 </td><td>-0.6795697 </td><td> 0.6422539 </td><td>-0.04203784</td><td> 0.6426029 </td><td> 0.76712244</td><td> 1.00000000</td></tr>\n",
       "</tbody>\n",
       "</table>\n"
      ],
      "text/latex": [
       "\\begin{tabular}{r|llllllllll}\n",
       "  & IPI & PLASTICPRICE & CONSTRUCTION & CARSALES & WORKPEOPLE & WORKHOURS & INFLATION & Crude.Oil.Price & Unemployment.Level & H\\_Sales\\\\\n",
       "\\hline\n",
       "\tIPI &  1.00000000 &  0.1797738  & -0.08641423 &  0.2061344  &  0.2787484  &  0.3256952  & -0.51585330 & -0.1602253  & -0.08889819 &  0.11507664\\\\\n",
       "\tPLASTICPRICE &  0.17977382 &  1.0000000  & -0.94216934 & -0.6953348  & -0.8529924  &  0.8242110  & -0.13181996 &  0.8961231  &  0.90661040 &  0.77254216\\\\\n",
       "\tCONSTRUCTION & -0.08641423 & -0.9421693  &  1.00000000 &  0.7417199  &  0.8729598  & -0.7849093  & -0.01076630 & -0.8639185  & -0.95187035 & -0.78978402\\\\\n",
       "\tCARSALES &  0.20613438 & -0.6953348  &  0.74171986 &  1.0000000  &  0.7208426  & -0.4707664  & -0.21014871 & -0.6631991  & -0.73521599 & -0.62430827\\\\\n",
       "\tWORKPEOPLE &  0.27874844 & -0.8529924  &  0.87295977 &  0.7208426  &  1.0000000  & -0.6480955  & -0.16707042 & -0.9553278  & -0.92742435 & -0.67956966\\\\\n",
       "\tWORKHOURS &  0.32569524 &  0.8242110  & -0.78490925 & -0.4707664  & -0.6480955  &  1.0000000  & -0.16725331 &  0.6883196  &  0.71131333 &  0.64225387\\\\\n",
       "\tINFLATION & -0.51585330 & -0.1318200  & -0.01076630 & -0.2101487  & -0.1670704  & -0.1672533  &  1.00000000 &  0.1120667  &  0.12306725 & -0.04203784\\\\\n",
       "\tCrude.Oil.Price & -0.16022534 &  0.8961231  & -0.86391853 & -0.6631991  & -0.9553278  &  0.6883196  &  0.11206671 &  1.0000000  &  0.90312551 &  0.64260285\\\\\n",
       "\tUnemployment.Level & -0.08889819 &  0.9066104  & -0.95187035 & -0.7352160  & -0.9274244  &  0.7113133  &  0.12306725 &  0.9031255  &  1.00000000 &  0.76712244\\\\\n",
       "\tH\\_Sales &  0.11507664 &  0.7725422  & -0.78978402 & -0.6243083  & -0.6795697  &  0.6422539  & -0.04203784 &  0.6426029  &  0.76712244 &  1.00000000\\\\\n",
       "\\end{tabular}\n"
      ],
      "text/markdown": [
       "\n",
       "| <!--/--> | IPI | PLASTICPRICE | CONSTRUCTION | CARSALES | WORKPEOPLE | WORKHOURS | INFLATION | Crude.Oil.Price | Unemployment.Level | H_Sales | \n",
       "|---|---|---|---|---|---|---|---|---|---|\n",
       "| IPI |  1.00000000 |  0.1797738  | -0.08641423 |  0.2061344  |  0.2787484  |  0.3256952  | -0.51585330 | -0.1602253  | -0.08889819 |  0.11507664 | \n",
       "| PLASTICPRICE |  0.17977382 |  1.0000000  | -0.94216934 | -0.6953348  | -0.8529924  |  0.8242110  | -0.13181996 |  0.8961231  |  0.90661040 |  0.77254216 | \n",
       "| CONSTRUCTION | -0.08641423 | -0.9421693  |  1.00000000 |  0.7417199  |  0.8729598  | -0.7849093  | -0.01076630 | -0.8639185  | -0.95187035 | -0.78978402 | \n",
       "| CARSALES |  0.20613438 | -0.6953348  |  0.74171986 |  1.0000000  |  0.7208426  | -0.4707664  | -0.21014871 | -0.6631991  | -0.73521599 | -0.62430827 | \n",
       "| WORKPEOPLE |  0.27874844 | -0.8529924  |  0.87295977 |  0.7208426  |  1.0000000  | -0.6480955  | -0.16707042 | -0.9553278  | -0.92742435 | -0.67956966 | \n",
       "| WORKHOURS |  0.32569524 |  0.8242110  | -0.78490925 | -0.4707664  | -0.6480955  |  1.0000000  | -0.16725331 |  0.6883196  |  0.71131333 |  0.64225387 | \n",
       "| INFLATION | -0.51585330 | -0.1318200  | -0.01076630 | -0.2101487  | -0.1670704  | -0.1672533  |  1.00000000 |  0.1120667  |  0.12306725 | -0.04203784 | \n",
       "| Crude.Oil.Price | -0.16022534 |  0.8961231  | -0.86391853 | -0.6631991  | -0.9553278  |  0.6883196  |  0.11206671 |  1.0000000  |  0.90312551 |  0.64260285 | \n",
       "| Unemployment.Level | -0.08889819 |  0.9066104  | -0.95187035 | -0.7352160  | -0.9274244  |  0.7113133  |  0.12306725 |  0.9031255  |  1.00000000 |  0.76712244 | \n",
       "| H_Sales |  0.11507664 |  0.7725422  | -0.78978402 | -0.6243083  | -0.6795697  |  0.6422539  | -0.04203784 |  0.6426029  |  0.76712244 |  1.00000000 | \n",
       "\n",
       "\n"
      ],
      "text/plain": [
       "                   IPI         PLASTICPRICE CONSTRUCTION CARSALES   WORKPEOPLE\n",
       "IPI                 1.00000000  0.1797738   -0.08641423   0.2061344  0.2787484\n",
       "PLASTICPRICE        0.17977382  1.0000000   -0.94216934  -0.6953348 -0.8529924\n",
       "CONSTRUCTION       -0.08641423 -0.9421693    1.00000000   0.7417199  0.8729598\n",
       "CARSALES            0.20613438 -0.6953348    0.74171986   1.0000000  0.7208426\n",
       "WORKPEOPLE          0.27874844 -0.8529924    0.87295977   0.7208426  1.0000000\n",
       "WORKHOURS           0.32569524  0.8242110   -0.78490925  -0.4707664 -0.6480955\n",
       "INFLATION          -0.51585330 -0.1318200   -0.01076630  -0.2101487 -0.1670704\n",
       "Crude.Oil.Price    -0.16022534  0.8961231   -0.86391853  -0.6631991 -0.9553278\n",
       "Unemployment.Level -0.08889819  0.9066104   -0.95187035  -0.7352160 -0.9274244\n",
       "H_Sales             0.11507664  0.7725422   -0.78978402  -0.6243083 -0.6795697\n",
       "                   WORKHOURS  INFLATION   Crude.Oil.Price Unemployment.Level\n",
       "IPI                 0.3256952 -0.51585330 -0.1602253      -0.08889819       \n",
       "PLASTICPRICE        0.8242110 -0.13181996  0.8961231       0.90661040       \n",
       "CONSTRUCTION       -0.7849093 -0.01076630 -0.8639185      -0.95187035       \n",
       "CARSALES           -0.4707664 -0.21014871 -0.6631991      -0.73521599       \n",
       "WORKPEOPLE         -0.6480955 -0.16707042 -0.9553278      -0.92742435       \n",
       "WORKHOURS           1.0000000 -0.16725331  0.6883196       0.71131333       \n",
       "INFLATION          -0.1672533  1.00000000  0.1120667       0.12306725       \n",
       "Crude.Oil.Price     0.6883196  0.11206671  1.0000000       0.90312551       \n",
       "Unemployment.Level  0.7113133  0.12306725  0.9031255       1.00000000       \n",
       "H_Sales             0.6422539 -0.04203784  0.6426029       0.76712244       \n",
       "                   H_Sales    \n",
       "IPI                 0.11507664\n",
       "PLASTICPRICE        0.77254216\n",
       "CONSTRUCTION       -0.78978402\n",
       "CARSALES           -0.62430827\n",
       "WORKPEOPLE         -0.67956966\n",
       "WORKHOURS           0.64225387\n",
       "INFLATION          -0.04203784\n",
       "Crude.Oil.Price     0.64260285\n",
       "Unemployment.Level  0.76712244\n",
       "H_Sales             1.00000000"
      ]
     },
     "metadata": {},
     "output_type": "display_data"
    }
   ],
   "source": [
    "cor(newdata)"
   ]
  },
  {
   "cell_type": "markdown",
   "metadata": {},
   "source": [
    "I then begin removing variables that have high correlations with other variables."
   ]
  },
  {
   "cell_type": "code",
   "execution_count": 294,
   "metadata": {
    "collapsed": true
   },
   "outputs": [],
   "source": [
    "newdata<-newdata[c(-6)]"
   ]
  },
  {
   "cell_type": "code",
   "execution_count": 295,
   "metadata": {},
   "outputs": [
    {
     "data": {
      "text/html": [
       "<table>\n",
       "<thead><tr><th></th><th scope=col>IPI</th><th scope=col>PLASTICPRICE</th><th scope=col>CONSTRUCTION</th><th scope=col>CARSALES</th><th scope=col>WORKPEOPLE</th><th scope=col>INFLATION</th><th scope=col>Crude.Oil.Price</th><th scope=col>Unemployment.Level</th><th scope=col>H_Sales</th></tr></thead>\n",
       "<tbody>\n",
       "\t<tr><th scope=row>IPI</th><td> 1.00000000</td><td> 0.1797738 </td><td>-0.08641423</td><td> 0.2061344 </td><td> 0.2787484 </td><td>-0.51585330</td><td>-0.1602253 </td><td>-0.08889819</td><td> 0.11507664</td></tr>\n",
       "\t<tr><th scope=row>PLASTICPRICE</th><td> 0.17977382</td><td> 1.0000000 </td><td>-0.94216934</td><td>-0.6953348 </td><td>-0.8529924 </td><td>-0.13181996</td><td> 0.8961231 </td><td> 0.90661040</td><td> 0.77254216</td></tr>\n",
       "\t<tr><th scope=row>CONSTRUCTION</th><td>-0.08641423</td><td>-0.9421693 </td><td> 1.00000000</td><td> 0.7417199 </td><td> 0.8729598 </td><td>-0.01076630</td><td>-0.8639185 </td><td>-0.95187035</td><td>-0.78978402</td></tr>\n",
       "\t<tr><th scope=row>CARSALES</th><td> 0.20613438</td><td>-0.6953348 </td><td> 0.74171986</td><td> 1.0000000 </td><td> 0.7208426 </td><td>-0.21014871</td><td>-0.6631991 </td><td>-0.73521599</td><td>-0.62430827</td></tr>\n",
       "\t<tr><th scope=row>WORKPEOPLE</th><td> 0.27874844</td><td>-0.8529924 </td><td> 0.87295977</td><td> 0.7208426 </td><td> 1.0000000 </td><td>-0.16707042</td><td>-0.9553278 </td><td>-0.92742435</td><td>-0.67956966</td></tr>\n",
       "\t<tr><th scope=row>INFLATION</th><td>-0.51585330</td><td>-0.1318200 </td><td>-0.01076630</td><td>-0.2101487 </td><td>-0.1670704 </td><td> 1.00000000</td><td> 0.1120667 </td><td> 0.12306725</td><td>-0.04203784</td></tr>\n",
       "\t<tr><th scope=row>Crude.Oil.Price</th><td>-0.16022534</td><td> 0.8961231 </td><td>-0.86391853</td><td>-0.6631991 </td><td>-0.9553278 </td><td> 0.11206671</td><td> 1.0000000 </td><td> 0.90312551</td><td> 0.64260285</td></tr>\n",
       "\t<tr><th scope=row>Unemployment.Level</th><td>-0.08889819</td><td> 0.9066104 </td><td>-0.95187035</td><td>-0.7352160 </td><td>-0.9274244 </td><td> 0.12306725</td><td> 0.9031255 </td><td> 1.00000000</td><td> 0.76712244</td></tr>\n",
       "\t<tr><th scope=row>H_Sales</th><td> 0.11507664</td><td> 0.7725422 </td><td>-0.78978402</td><td>-0.6243083 </td><td>-0.6795697 </td><td>-0.04203784</td><td> 0.6426029 </td><td> 0.76712244</td><td> 1.00000000</td></tr>\n",
       "</tbody>\n",
       "</table>\n"
      ],
      "text/latex": [
       "\\begin{tabular}{r|lllllllll}\n",
       "  & IPI & PLASTICPRICE & CONSTRUCTION & CARSALES & WORKPEOPLE & INFLATION & Crude.Oil.Price & Unemployment.Level & H\\_Sales\\\\\n",
       "\\hline\n",
       "\tIPI &  1.00000000 &  0.1797738  & -0.08641423 &  0.2061344  &  0.2787484  & -0.51585330 & -0.1602253  & -0.08889819 &  0.11507664\\\\\n",
       "\tPLASTICPRICE &  0.17977382 &  1.0000000  & -0.94216934 & -0.6953348  & -0.8529924  & -0.13181996 &  0.8961231  &  0.90661040 &  0.77254216\\\\\n",
       "\tCONSTRUCTION & -0.08641423 & -0.9421693  &  1.00000000 &  0.7417199  &  0.8729598  & -0.01076630 & -0.8639185  & -0.95187035 & -0.78978402\\\\\n",
       "\tCARSALES &  0.20613438 & -0.6953348  &  0.74171986 &  1.0000000  &  0.7208426  & -0.21014871 & -0.6631991  & -0.73521599 & -0.62430827\\\\\n",
       "\tWORKPEOPLE &  0.27874844 & -0.8529924  &  0.87295977 &  0.7208426  &  1.0000000  & -0.16707042 & -0.9553278  & -0.92742435 & -0.67956966\\\\\n",
       "\tINFLATION & -0.51585330 & -0.1318200  & -0.01076630 & -0.2101487  & -0.1670704  &  1.00000000 &  0.1120667  &  0.12306725 & -0.04203784\\\\\n",
       "\tCrude.Oil.Price & -0.16022534 &  0.8961231  & -0.86391853 & -0.6631991  & -0.9553278  &  0.11206671 &  1.0000000  &  0.90312551 &  0.64260285\\\\\n",
       "\tUnemployment.Level & -0.08889819 &  0.9066104  & -0.95187035 & -0.7352160  & -0.9274244  &  0.12306725 &  0.9031255  &  1.00000000 &  0.76712244\\\\\n",
       "\tH\\_Sales &  0.11507664 &  0.7725422  & -0.78978402 & -0.6243083  & -0.6795697  & -0.04203784 &  0.6426029  &  0.76712244 &  1.00000000\\\\\n",
       "\\end{tabular}\n"
      ],
      "text/markdown": [
       "\n",
       "| <!--/--> | IPI | PLASTICPRICE | CONSTRUCTION | CARSALES | WORKPEOPLE | INFLATION | Crude.Oil.Price | Unemployment.Level | H_Sales | \n",
       "|---|---|---|---|---|---|---|---|---|\n",
       "| IPI |  1.00000000 |  0.1797738  | -0.08641423 |  0.2061344  |  0.2787484  | -0.51585330 | -0.1602253  | -0.08889819 |  0.11507664 | \n",
       "| PLASTICPRICE |  0.17977382 |  1.0000000  | -0.94216934 | -0.6953348  | -0.8529924  | -0.13181996 |  0.8961231  |  0.90661040 |  0.77254216 | \n",
       "| CONSTRUCTION | -0.08641423 | -0.9421693  |  1.00000000 |  0.7417199  |  0.8729598  | -0.01076630 | -0.8639185  | -0.95187035 | -0.78978402 | \n",
       "| CARSALES |  0.20613438 | -0.6953348  |  0.74171986 |  1.0000000  |  0.7208426  | -0.21014871 | -0.6631991  | -0.73521599 | -0.62430827 | \n",
       "| WORKPEOPLE |  0.27874844 | -0.8529924  |  0.87295977 |  0.7208426  |  1.0000000  | -0.16707042 | -0.9553278  | -0.92742435 | -0.67956966 | \n",
       "| INFLATION | -0.51585330 | -0.1318200  | -0.01076630 | -0.2101487  | -0.1670704  |  1.00000000 |  0.1120667  |  0.12306725 | -0.04203784 | \n",
       "| Crude.Oil.Price | -0.16022534 |  0.8961231  | -0.86391853 | -0.6631991  | -0.9553278  |  0.11206671 |  1.0000000  |  0.90312551 |  0.64260285 | \n",
       "| Unemployment.Level | -0.08889819 |  0.9066104  | -0.95187035 | -0.7352160  | -0.9274244  |  0.12306725 |  0.9031255  |  1.00000000 |  0.76712244 | \n",
       "| H_Sales |  0.11507664 |  0.7725422  | -0.78978402 | -0.6243083  | -0.6795697  | -0.04203784 |  0.6426029  |  0.76712244 |  1.00000000 | \n",
       "\n",
       "\n"
      ],
      "text/plain": [
       "                   IPI         PLASTICPRICE CONSTRUCTION CARSALES   WORKPEOPLE\n",
       "IPI                 1.00000000  0.1797738   -0.08641423   0.2061344  0.2787484\n",
       "PLASTICPRICE        0.17977382  1.0000000   -0.94216934  -0.6953348 -0.8529924\n",
       "CONSTRUCTION       -0.08641423 -0.9421693    1.00000000   0.7417199  0.8729598\n",
       "CARSALES            0.20613438 -0.6953348    0.74171986   1.0000000  0.7208426\n",
       "WORKPEOPLE          0.27874844 -0.8529924    0.87295977   0.7208426  1.0000000\n",
       "INFLATION          -0.51585330 -0.1318200   -0.01076630  -0.2101487 -0.1670704\n",
       "Crude.Oil.Price    -0.16022534  0.8961231   -0.86391853  -0.6631991 -0.9553278\n",
       "Unemployment.Level -0.08889819  0.9066104   -0.95187035  -0.7352160 -0.9274244\n",
       "H_Sales             0.11507664  0.7725422   -0.78978402  -0.6243083 -0.6795697\n",
       "                   INFLATION   Crude.Oil.Price Unemployment.Level H_Sales    \n",
       "IPI                -0.51585330 -0.1602253      -0.08889819         0.11507664\n",
       "PLASTICPRICE       -0.13181996  0.8961231       0.90661040         0.77254216\n",
       "CONSTRUCTION       -0.01076630 -0.8639185      -0.95187035        -0.78978402\n",
       "CARSALES           -0.21014871 -0.6631991      -0.73521599        -0.62430827\n",
       "WORKPEOPLE         -0.16707042 -0.9553278      -0.92742435        -0.67956966\n",
       "INFLATION           1.00000000  0.1120667       0.12306725        -0.04203784\n",
       "Crude.Oil.Price     0.11206671  1.0000000       0.90312551         0.64260285\n",
       "Unemployment.Level  0.12306725  0.9031255       1.00000000         0.76712244\n",
       "H_Sales            -0.04203784  0.6426029       0.76712244         1.00000000"
      ]
     },
     "metadata": {},
     "output_type": "display_data"
    }
   ],
   "source": [
    "cor(newdata)"
   ]
  },
  {
   "cell_type": "code",
   "execution_count": 296,
   "metadata": {},
   "outputs": [
    {
     "data": {
      "text/html": [
       "<table>\n",
       "<thead><tr><th></th><th scope=col>IPI</th><th scope=col>PLASTICPRICE</th><th scope=col>CONSTRUCTION</th><th scope=col>CARSALES</th><th scope=col>WORKPEOPLE</th><th scope=col>INFLATION</th><th scope=col>Unemployment.Level</th><th scope=col>H_Sales</th></tr></thead>\n",
       "<tbody>\n",
       "\t<tr><th scope=row>IPI</th><td> 1.00000000</td><td> 0.1797738 </td><td>-0.08641423</td><td> 0.2061344 </td><td> 0.2787484 </td><td>-0.51585330</td><td>-0.08889819</td><td> 0.11507664</td></tr>\n",
       "\t<tr><th scope=row>PLASTICPRICE</th><td> 0.17977382</td><td> 1.0000000 </td><td>-0.94216934</td><td>-0.6953348 </td><td>-0.8529924 </td><td>-0.13181996</td><td> 0.90661040</td><td> 0.77254216</td></tr>\n",
       "\t<tr><th scope=row>CONSTRUCTION</th><td>-0.08641423</td><td>-0.9421693 </td><td> 1.00000000</td><td> 0.7417199 </td><td> 0.8729598 </td><td>-0.01076630</td><td>-0.95187035</td><td>-0.78978402</td></tr>\n",
       "\t<tr><th scope=row>CARSALES</th><td> 0.20613438</td><td>-0.6953348 </td><td> 0.74171986</td><td> 1.0000000 </td><td> 0.7208426 </td><td>-0.21014871</td><td>-0.73521599</td><td>-0.62430827</td></tr>\n",
       "\t<tr><th scope=row>WORKPEOPLE</th><td> 0.27874844</td><td>-0.8529924 </td><td> 0.87295977</td><td> 0.7208426 </td><td> 1.0000000 </td><td>-0.16707042</td><td>-0.92742435</td><td>-0.67956966</td></tr>\n",
       "\t<tr><th scope=row>INFLATION</th><td>-0.51585330</td><td>-0.1318200 </td><td>-0.01076630</td><td>-0.2101487 </td><td>-0.1670704 </td><td> 1.00000000</td><td> 0.12306725</td><td>-0.04203784</td></tr>\n",
       "\t<tr><th scope=row>Unemployment.Level</th><td>-0.08889819</td><td> 0.9066104 </td><td>-0.95187035</td><td>-0.7352160 </td><td>-0.9274244 </td><td> 0.12306725</td><td> 1.00000000</td><td> 0.76712244</td></tr>\n",
       "\t<tr><th scope=row>H_Sales</th><td> 0.11507664</td><td> 0.7725422 </td><td>-0.78978402</td><td>-0.6243083 </td><td>-0.6795697 </td><td>-0.04203784</td><td> 0.76712244</td><td> 1.00000000</td></tr>\n",
       "</tbody>\n",
       "</table>\n"
      ],
      "text/latex": [
       "\\begin{tabular}{r|llllllll}\n",
       "  & IPI & PLASTICPRICE & CONSTRUCTION & CARSALES & WORKPEOPLE & INFLATION & Unemployment.Level & H\\_Sales\\\\\n",
       "\\hline\n",
       "\tIPI &  1.00000000 &  0.1797738  & -0.08641423 &  0.2061344  &  0.2787484  & -0.51585330 & -0.08889819 &  0.11507664\\\\\n",
       "\tPLASTICPRICE &  0.17977382 &  1.0000000  & -0.94216934 & -0.6953348  & -0.8529924  & -0.13181996 &  0.90661040 &  0.77254216\\\\\n",
       "\tCONSTRUCTION & -0.08641423 & -0.9421693  &  1.00000000 &  0.7417199  &  0.8729598  & -0.01076630 & -0.95187035 & -0.78978402\\\\\n",
       "\tCARSALES &  0.20613438 & -0.6953348  &  0.74171986 &  1.0000000  &  0.7208426  & -0.21014871 & -0.73521599 & -0.62430827\\\\\n",
       "\tWORKPEOPLE &  0.27874844 & -0.8529924  &  0.87295977 &  0.7208426  &  1.0000000  & -0.16707042 & -0.92742435 & -0.67956966\\\\\n",
       "\tINFLATION & -0.51585330 & -0.1318200  & -0.01076630 & -0.2101487  & -0.1670704  &  1.00000000 &  0.12306725 & -0.04203784\\\\\n",
       "\tUnemployment.Level & -0.08889819 &  0.9066104  & -0.95187035 & -0.7352160  & -0.9274244  &  0.12306725 &  1.00000000 &  0.76712244\\\\\n",
       "\tH\\_Sales &  0.11507664 &  0.7725422  & -0.78978402 & -0.6243083  & -0.6795697  & -0.04203784 &  0.76712244 &  1.00000000\\\\\n",
       "\\end{tabular}\n"
      ],
      "text/markdown": [
       "\n",
       "| <!--/--> | IPI | PLASTICPRICE | CONSTRUCTION | CARSALES | WORKPEOPLE | INFLATION | Unemployment.Level | H_Sales | \n",
       "|---|---|---|---|---|---|---|---|\n",
       "| IPI |  1.00000000 |  0.1797738  | -0.08641423 |  0.2061344  |  0.2787484  | -0.51585330 | -0.08889819 |  0.11507664 | \n",
       "| PLASTICPRICE |  0.17977382 |  1.0000000  | -0.94216934 | -0.6953348  | -0.8529924  | -0.13181996 |  0.90661040 |  0.77254216 | \n",
       "| CONSTRUCTION | -0.08641423 | -0.9421693  |  1.00000000 |  0.7417199  |  0.8729598  | -0.01076630 | -0.95187035 | -0.78978402 | \n",
       "| CARSALES |  0.20613438 | -0.6953348  |  0.74171986 |  1.0000000  |  0.7208426  | -0.21014871 | -0.73521599 | -0.62430827 | \n",
       "| WORKPEOPLE |  0.27874844 | -0.8529924  |  0.87295977 |  0.7208426  |  1.0000000  | -0.16707042 | -0.92742435 | -0.67956966 | \n",
       "| INFLATION | -0.51585330 | -0.1318200  | -0.01076630 | -0.2101487  | -0.1670704  |  1.00000000 |  0.12306725 | -0.04203784 | \n",
       "| Unemployment.Level | -0.08889819 |  0.9066104  | -0.95187035 | -0.7352160  | -0.9274244  |  0.12306725 |  1.00000000 |  0.76712244 | \n",
       "| H_Sales |  0.11507664 |  0.7725422  | -0.78978402 | -0.6243083  | -0.6795697  | -0.04203784 |  0.76712244 |  1.00000000 | \n",
       "\n",
       "\n"
      ],
      "text/plain": [
       "                   IPI         PLASTICPRICE CONSTRUCTION CARSALES   WORKPEOPLE\n",
       "IPI                 1.00000000  0.1797738   -0.08641423   0.2061344  0.2787484\n",
       "PLASTICPRICE        0.17977382  1.0000000   -0.94216934  -0.6953348 -0.8529924\n",
       "CONSTRUCTION       -0.08641423 -0.9421693    1.00000000   0.7417199  0.8729598\n",
       "CARSALES            0.20613438 -0.6953348    0.74171986   1.0000000  0.7208426\n",
       "WORKPEOPLE          0.27874844 -0.8529924    0.87295977   0.7208426  1.0000000\n",
       "INFLATION          -0.51585330 -0.1318200   -0.01076630  -0.2101487 -0.1670704\n",
       "Unemployment.Level -0.08889819  0.9066104   -0.95187035  -0.7352160 -0.9274244\n",
       "H_Sales             0.11507664  0.7725422   -0.78978402  -0.6243083 -0.6795697\n",
       "                   INFLATION   Unemployment.Level H_Sales    \n",
       "IPI                -0.51585330 -0.08889819         0.11507664\n",
       "PLASTICPRICE       -0.13181996  0.90661040         0.77254216\n",
       "CONSTRUCTION       -0.01076630 -0.95187035        -0.78978402\n",
       "CARSALES           -0.21014871 -0.73521599        -0.62430827\n",
       "WORKPEOPLE         -0.16707042 -0.92742435        -0.67956966\n",
       "INFLATION           1.00000000  0.12306725        -0.04203784\n",
       "Unemployment.Level  0.12306725  1.00000000         0.76712244\n",
       "H_Sales            -0.04203784  0.76712244         1.00000000"
      ]
     },
     "metadata": {},
     "output_type": "display_data"
    }
   ],
   "source": [
    "newdata<-newdata[c(-7)]\n",
    "cor(newdata)"
   ]
  },
  {
   "cell_type": "code",
   "execution_count": 297,
   "metadata": {},
   "outputs": [
    {
     "data": {
      "text/html": [
       "<table>\n",
       "<thead><tr><th></th><th scope=col>IPI</th><th scope=col>PLASTICPRICE</th><th scope=col>CONSTRUCTION</th><th scope=col>CARSALES</th><th scope=col>WORKPEOPLE</th><th scope=col>INFLATION</th><th scope=col>H_Sales</th></tr></thead>\n",
       "<tbody>\n",
       "\t<tr><th scope=row>IPI</th><td> 1.00000000</td><td> 0.1797738 </td><td>-0.08641423</td><td> 0.2061344 </td><td> 0.2787484 </td><td>-0.51585330</td><td> 0.11507664</td></tr>\n",
       "\t<tr><th scope=row>PLASTICPRICE</th><td> 0.17977382</td><td> 1.0000000 </td><td>-0.94216934</td><td>-0.6953348 </td><td>-0.8529924 </td><td>-0.13181996</td><td> 0.77254216</td></tr>\n",
       "\t<tr><th scope=row>CONSTRUCTION</th><td>-0.08641423</td><td>-0.9421693 </td><td> 1.00000000</td><td> 0.7417199 </td><td> 0.8729598 </td><td>-0.01076630</td><td>-0.78978402</td></tr>\n",
       "\t<tr><th scope=row>CARSALES</th><td> 0.20613438</td><td>-0.6953348 </td><td> 0.74171986</td><td> 1.0000000 </td><td> 0.7208426 </td><td>-0.21014871</td><td>-0.62430827</td></tr>\n",
       "\t<tr><th scope=row>WORKPEOPLE</th><td> 0.27874844</td><td>-0.8529924 </td><td> 0.87295977</td><td> 0.7208426 </td><td> 1.0000000 </td><td>-0.16707042</td><td>-0.67956966</td></tr>\n",
       "\t<tr><th scope=row>INFLATION</th><td>-0.51585330</td><td>-0.1318200 </td><td>-0.01076630</td><td>-0.2101487 </td><td>-0.1670704 </td><td> 1.00000000</td><td>-0.04203784</td></tr>\n",
       "\t<tr><th scope=row>H_Sales</th><td> 0.11507664</td><td> 0.7725422 </td><td>-0.78978402</td><td>-0.6243083 </td><td>-0.6795697 </td><td>-0.04203784</td><td> 1.00000000</td></tr>\n",
       "</tbody>\n",
       "</table>\n"
      ],
      "text/latex": [
       "\\begin{tabular}{r|lllllll}\n",
       "  & IPI & PLASTICPRICE & CONSTRUCTION & CARSALES & WORKPEOPLE & INFLATION & H\\_Sales\\\\\n",
       "\\hline\n",
       "\tIPI &  1.00000000 &  0.1797738  & -0.08641423 &  0.2061344  &  0.2787484  & -0.51585330 &  0.11507664\\\\\n",
       "\tPLASTICPRICE &  0.17977382 &  1.0000000  & -0.94216934 & -0.6953348  & -0.8529924  & -0.13181996 &  0.77254216\\\\\n",
       "\tCONSTRUCTION & -0.08641423 & -0.9421693  &  1.00000000 &  0.7417199  &  0.8729598  & -0.01076630 & -0.78978402\\\\\n",
       "\tCARSALES &  0.20613438 & -0.6953348  &  0.74171986 &  1.0000000  &  0.7208426  & -0.21014871 & -0.62430827\\\\\n",
       "\tWORKPEOPLE &  0.27874844 & -0.8529924  &  0.87295977 &  0.7208426  &  1.0000000  & -0.16707042 & -0.67956966\\\\\n",
       "\tINFLATION & -0.51585330 & -0.1318200  & -0.01076630 & -0.2101487  & -0.1670704  &  1.00000000 & -0.04203784\\\\\n",
       "\tH\\_Sales &  0.11507664 &  0.7725422  & -0.78978402 & -0.6243083  & -0.6795697  & -0.04203784 &  1.00000000\\\\\n",
       "\\end{tabular}\n"
      ],
      "text/markdown": [
       "\n",
       "| <!--/--> | IPI | PLASTICPRICE | CONSTRUCTION | CARSALES | WORKPEOPLE | INFLATION | H_Sales | \n",
       "|---|---|---|---|---|---|---|\n",
       "| IPI |  1.00000000 |  0.1797738  | -0.08641423 |  0.2061344  |  0.2787484  | -0.51585330 |  0.11507664 | \n",
       "| PLASTICPRICE |  0.17977382 |  1.0000000  | -0.94216934 | -0.6953348  | -0.8529924  | -0.13181996 |  0.77254216 | \n",
       "| CONSTRUCTION | -0.08641423 | -0.9421693  |  1.00000000 |  0.7417199  |  0.8729598  | -0.01076630 | -0.78978402 | \n",
       "| CARSALES |  0.20613438 | -0.6953348  |  0.74171986 |  1.0000000  |  0.7208426  | -0.21014871 | -0.62430827 | \n",
       "| WORKPEOPLE |  0.27874844 | -0.8529924  |  0.87295977 |  0.7208426  |  1.0000000  | -0.16707042 | -0.67956966 | \n",
       "| INFLATION | -0.51585330 | -0.1318200  | -0.01076630 | -0.2101487  | -0.1670704  |  1.00000000 | -0.04203784 | \n",
       "| H_Sales |  0.11507664 |  0.7725422  | -0.78978402 | -0.6243083  | -0.6795697  | -0.04203784 |  1.00000000 | \n",
       "\n",
       "\n"
      ],
      "text/plain": [
       "             IPI         PLASTICPRICE CONSTRUCTION CARSALES   WORKPEOPLE\n",
       "IPI           1.00000000  0.1797738   -0.08641423   0.2061344  0.2787484\n",
       "PLASTICPRICE  0.17977382  1.0000000   -0.94216934  -0.6953348 -0.8529924\n",
       "CONSTRUCTION -0.08641423 -0.9421693    1.00000000   0.7417199  0.8729598\n",
       "CARSALES      0.20613438 -0.6953348    0.74171986   1.0000000  0.7208426\n",
       "WORKPEOPLE    0.27874844 -0.8529924    0.87295977   0.7208426  1.0000000\n",
       "INFLATION    -0.51585330 -0.1318200   -0.01076630  -0.2101487 -0.1670704\n",
       "H_Sales       0.11507664  0.7725422   -0.78978402  -0.6243083 -0.6795697\n",
       "             INFLATION   H_Sales    \n",
       "IPI          -0.51585330  0.11507664\n",
       "PLASTICPRICE -0.13181996  0.77254216\n",
       "CONSTRUCTION -0.01076630 -0.78978402\n",
       "CARSALES     -0.21014871 -0.62430827\n",
       "WORKPEOPLE   -0.16707042 -0.67956966\n",
       "INFLATION     1.00000000 -0.04203784\n",
       "H_Sales      -0.04203784  1.00000000"
      ]
     },
     "metadata": {},
     "output_type": "display_data"
    }
   ],
   "source": [
    "newdata<-newdata[c(-7)]\n",
    "cor(newdata)"
   ]
  },
  {
   "cell_type": "code",
   "execution_count": 298,
   "metadata": {},
   "outputs": [
    {
     "data": {
      "text/html": [
       "<table>\n",
       "<thead><tr><th></th><th scope=col>IPI</th><th scope=col>PLASTICPRICE</th><th scope=col>CONSTRUCTION</th><th scope=col>WORKPEOPLE</th><th scope=col>INFLATION</th><th scope=col>H_Sales</th></tr></thead>\n",
       "<tbody>\n",
       "\t<tr><th scope=row>IPI</th><td> 1.00000000</td><td> 0.1797738 </td><td>-0.08641423</td><td> 0.2787484 </td><td>-0.51585330</td><td> 0.11507664</td></tr>\n",
       "\t<tr><th scope=row>PLASTICPRICE</th><td> 0.17977382</td><td> 1.0000000 </td><td>-0.94216934</td><td>-0.8529924 </td><td>-0.13181996</td><td> 0.77254216</td></tr>\n",
       "\t<tr><th scope=row>CONSTRUCTION</th><td>-0.08641423</td><td>-0.9421693 </td><td> 1.00000000</td><td> 0.8729598 </td><td>-0.01076630</td><td>-0.78978402</td></tr>\n",
       "\t<tr><th scope=row>WORKPEOPLE</th><td> 0.27874844</td><td>-0.8529924 </td><td> 0.87295977</td><td> 1.0000000 </td><td>-0.16707042</td><td>-0.67956966</td></tr>\n",
       "\t<tr><th scope=row>INFLATION</th><td>-0.51585330</td><td>-0.1318200 </td><td>-0.01076630</td><td>-0.1670704 </td><td> 1.00000000</td><td>-0.04203784</td></tr>\n",
       "\t<tr><th scope=row>H_Sales</th><td> 0.11507664</td><td> 0.7725422 </td><td>-0.78978402</td><td>-0.6795697 </td><td>-0.04203784</td><td> 1.00000000</td></tr>\n",
       "</tbody>\n",
       "</table>\n"
      ],
      "text/latex": [
       "\\begin{tabular}{r|llllll}\n",
       "  & IPI & PLASTICPRICE & CONSTRUCTION & WORKPEOPLE & INFLATION & H\\_Sales\\\\\n",
       "\\hline\n",
       "\tIPI &  1.00000000 &  0.1797738  & -0.08641423 &  0.2787484  & -0.51585330 &  0.11507664\\\\\n",
       "\tPLASTICPRICE &  0.17977382 &  1.0000000  & -0.94216934 & -0.8529924  & -0.13181996 &  0.77254216\\\\\n",
       "\tCONSTRUCTION & -0.08641423 & -0.9421693  &  1.00000000 &  0.8729598  & -0.01076630 & -0.78978402\\\\\n",
       "\tWORKPEOPLE &  0.27874844 & -0.8529924  &  0.87295977 &  1.0000000  & -0.16707042 & -0.67956966\\\\\n",
       "\tINFLATION & -0.51585330 & -0.1318200  & -0.01076630 & -0.1670704  &  1.00000000 & -0.04203784\\\\\n",
       "\tH\\_Sales &  0.11507664 &  0.7725422  & -0.78978402 & -0.6795697  & -0.04203784 &  1.00000000\\\\\n",
       "\\end{tabular}\n"
      ],
      "text/markdown": [
       "\n",
       "| <!--/--> | IPI | PLASTICPRICE | CONSTRUCTION | WORKPEOPLE | INFLATION | H_Sales | \n",
       "|---|---|---|---|---|---|\n",
       "| IPI |  1.00000000 |  0.1797738  | -0.08641423 |  0.2787484  | -0.51585330 |  0.11507664 | \n",
       "| PLASTICPRICE |  0.17977382 |  1.0000000  | -0.94216934 | -0.8529924  | -0.13181996 |  0.77254216 | \n",
       "| CONSTRUCTION | -0.08641423 | -0.9421693  |  1.00000000 |  0.8729598  | -0.01076630 | -0.78978402 | \n",
       "| WORKPEOPLE |  0.27874844 | -0.8529924  |  0.87295977 |  1.0000000  | -0.16707042 | -0.67956966 | \n",
       "| INFLATION | -0.51585330 | -0.1318200  | -0.01076630 | -0.1670704  |  1.00000000 | -0.04203784 | \n",
       "| H_Sales |  0.11507664 |  0.7725422  | -0.78978402 | -0.6795697  | -0.04203784 |  1.00000000 | \n",
       "\n",
       "\n"
      ],
      "text/plain": [
       "             IPI         PLASTICPRICE CONSTRUCTION WORKPEOPLE INFLATION  \n",
       "IPI           1.00000000  0.1797738   -0.08641423   0.2787484 -0.51585330\n",
       "PLASTICPRICE  0.17977382  1.0000000   -0.94216934  -0.8529924 -0.13181996\n",
       "CONSTRUCTION -0.08641423 -0.9421693    1.00000000   0.8729598 -0.01076630\n",
       "WORKPEOPLE    0.27874844 -0.8529924    0.87295977   1.0000000 -0.16707042\n",
       "INFLATION    -0.51585330 -0.1318200   -0.01076630  -0.1670704  1.00000000\n",
       "H_Sales       0.11507664  0.7725422   -0.78978402  -0.6795697 -0.04203784\n",
       "             H_Sales    \n",
       "IPI           0.11507664\n",
       "PLASTICPRICE  0.77254216\n",
       "CONSTRUCTION -0.78978402\n",
       "WORKPEOPLE   -0.67956966\n",
       "INFLATION    -0.04203784\n",
       "H_Sales       1.00000000"
      ]
     },
     "metadata": {},
     "output_type": "display_data"
    }
   ],
   "source": [
    "newdata<-newdata[c(-4)]\n",
    "cor(newdata)"
   ]
  },
  {
   "cell_type": "code",
   "execution_count": 299,
   "metadata": {},
   "outputs": [
    {
     "data": {
      "text/html": [
       "<table>\n",
       "<thead><tr><th></th><th scope=col>IPI</th><th scope=col>PLASTICPRICE</th><th scope=col>WORKPEOPLE</th><th scope=col>INFLATION</th><th scope=col>H_Sales</th></tr></thead>\n",
       "<tbody>\n",
       "\t<tr><th scope=row>IPI</th><td> 1.0000000 </td><td> 0.1797738 </td><td> 0.2787484 </td><td>-0.51585330</td><td> 0.11507664</td></tr>\n",
       "\t<tr><th scope=row>PLASTICPRICE</th><td> 0.1797738 </td><td> 1.0000000 </td><td>-0.8529924 </td><td>-0.13181996</td><td> 0.77254216</td></tr>\n",
       "\t<tr><th scope=row>WORKPEOPLE</th><td> 0.2787484 </td><td>-0.8529924 </td><td> 1.0000000 </td><td>-0.16707042</td><td>-0.67956966</td></tr>\n",
       "\t<tr><th scope=row>INFLATION</th><td>-0.5158533 </td><td>-0.1318200 </td><td>-0.1670704 </td><td> 1.00000000</td><td>-0.04203784</td></tr>\n",
       "\t<tr><th scope=row>H_Sales</th><td> 0.1150766 </td><td> 0.7725422 </td><td>-0.6795697 </td><td>-0.04203784</td><td> 1.00000000</td></tr>\n",
       "</tbody>\n",
       "</table>\n"
      ],
      "text/latex": [
       "\\begin{tabular}{r|lllll}\n",
       "  & IPI & PLASTICPRICE & WORKPEOPLE & INFLATION & H\\_Sales\\\\\n",
       "\\hline\n",
       "\tIPI &  1.0000000  &  0.1797738  &  0.2787484  & -0.51585330 &  0.11507664\\\\\n",
       "\tPLASTICPRICE &  0.1797738  &  1.0000000  & -0.8529924  & -0.13181996 &  0.77254216\\\\\n",
       "\tWORKPEOPLE &  0.2787484  & -0.8529924  &  1.0000000  & -0.16707042 & -0.67956966\\\\\n",
       "\tINFLATION & -0.5158533  & -0.1318200  & -0.1670704  &  1.00000000 & -0.04203784\\\\\n",
       "\tH\\_Sales &  0.1150766  &  0.7725422  & -0.6795697  & -0.04203784 &  1.00000000\\\\\n",
       "\\end{tabular}\n"
      ],
      "text/markdown": [
       "\n",
       "| <!--/--> | IPI | PLASTICPRICE | WORKPEOPLE | INFLATION | H_Sales | \n",
       "|---|---|---|---|---|\n",
       "| IPI |  1.0000000  |  0.1797738  |  0.2787484  | -0.51585330 |  0.11507664 | \n",
       "| PLASTICPRICE |  0.1797738  |  1.0000000  | -0.8529924  | -0.13181996 |  0.77254216 | \n",
       "| WORKPEOPLE |  0.2787484  | -0.8529924  |  1.0000000  | -0.16707042 | -0.67956966 | \n",
       "| INFLATION | -0.5158533  | -0.1318200  | -0.1670704  |  1.00000000 | -0.04203784 | \n",
       "| H_Sales |  0.1150766  |  0.7725422  | -0.6795697  | -0.04203784 |  1.00000000 | \n",
       "\n",
       "\n"
      ],
      "text/plain": [
       "             IPI        PLASTICPRICE WORKPEOPLE INFLATION   H_Sales    \n",
       "IPI           1.0000000  0.1797738    0.2787484 -0.51585330  0.11507664\n",
       "PLASTICPRICE  0.1797738  1.0000000   -0.8529924 -0.13181996  0.77254216\n",
       "WORKPEOPLE    0.2787484 -0.8529924    1.0000000 -0.16707042 -0.67956966\n",
       "INFLATION    -0.5158533 -0.1318200   -0.1670704  1.00000000 -0.04203784\n",
       "H_Sales       0.1150766  0.7725422   -0.6795697 -0.04203784  1.00000000"
      ]
     },
     "metadata": {},
     "output_type": "display_data"
    }
   ],
   "source": [
    "newdata<-newdata[c(-3)]\n",
    "cor(newdata)"
   ]
  },
  {
   "cell_type": "code",
   "execution_count": 300,
   "metadata": {},
   "outputs": [
    {
     "data": {
      "text/html": [
       "<table>\n",
       "<thead><tr><th scope=col>IPI</th><th scope=col>PLASTICPRICE</th><th scope=col>WORKPEOPLE</th><th scope=col>INFLATION</th><th scope=col>H_Sales</th></tr></thead>\n",
       "<tbody>\n",
       "\t<tr><td>102.4  </td><td>297.8  </td><td>12110  </td><td> 0.0037</td><td>2539958</td></tr>\n",
       "\t<tr><td>103.2  </td><td>300.0  </td><td>12125  </td><td> 0.0064</td><td>1920039</td></tr>\n",
       "\t<tr><td>104.0  </td><td>301.1  </td><td>12142  </td><td> 0.0033</td><td>2534601</td></tr>\n",
       "\t<tr><td>104.1  </td><td>300.5  </td><td>12150  </td><td> 0.0035</td><td>2471810</td></tr>\n",
       "\t<tr><td>104.5  </td><td>298.2  </td><td>12171  </td><td> 0.0019</td><td>1864265</td></tr>\n",
       "\t<tr><td>104.9  </td><td>300.2  </td><td>12184  </td><td>-0.0004</td><td>2177834</td></tr>\n",
       "</tbody>\n",
       "</table>\n"
      ],
      "text/latex": [
       "\\begin{tabular}{r|lllll}\n",
       " IPI & PLASTICPRICE & WORKPEOPLE & INFLATION & H\\_Sales\\\\\n",
       "\\hline\n",
       "\t 102.4   & 297.8   & 12110   &  0.0037 & 2539958\\\\\n",
       "\t 103.2   & 300.0   & 12125   &  0.0064 & 1920039\\\\\n",
       "\t 104.0   & 301.1   & 12142   &  0.0033 & 2534601\\\\\n",
       "\t 104.1   & 300.5   & 12150   &  0.0035 & 2471810\\\\\n",
       "\t 104.5   & 298.2   & 12171   &  0.0019 & 1864265\\\\\n",
       "\t 104.9   & 300.2   & 12184   & -0.0004 & 2177834\\\\\n",
       "\\end{tabular}\n"
      ],
      "text/markdown": [
       "\n",
       "IPI | PLASTICPRICE | WORKPEOPLE | INFLATION | H_Sales | \n",
       "|---|---|---|---|---|---|\n",
       "| 102.4   | 297.8   | 12110   |  0.0037 | 2539958 | \n",
       "| 103.2   | 300.0   | 12125   |  0.0064 | 1920039 | \n",
       "| 104.0   | 301.1   | 12142   |  0.0033 | 2534601 | \n",
       "| 104.1   | 300.5   | 12150   |  0.0035 | 2471810 | \n",
       "| 104.5   | 298.2   | 12171   |  0.0019 | 1864265 | \n",
       "| 104.9   | 300.2   | 12184   | -0.0004 | 2177834 | \n",
       "\n",
       "\n"
      ],
      "text/plain": [
       "  IPI   PLASTICPRICE WORKPEOPLE INFLATION H_Sales\n",
       "1 102.4 297.8        12110       0.0037   2539958\n",
       "2 103.2 300.0        12125       0.0064   1920039\n",
       "3 104.0 301.1        12142       0.0033   2534601\n",
       "4 104.1 300.5        12150       0.0035   2471810\n",
       "5 104.5 298.2        12171       0.0019   1864265\n",
       "6 104.9 300.2        12184      -0.0004   2177834"
      ]
     },
     "metadata": {},
     "output_type": "display_data"
    }
   ],
   "source": [
    "data<-newdata\n",
    "head(data)"
   ]
  },
  {
   "cell_type": "code",
   "execution_count": 301,
   "metadata": {},
   "outputs": [
    {
     "data": {
      "text/plain": [
       "      IPI         PLASTICPRICE     WORKPEOPLE      INFLATION         \n",
       " Min.   :102.4   Min.   :254.0   Min.   :12110   Min.   :-0.0057000  \n",
       " 1st Qu.:104.1   1st Qu.:260.1   1st Qu.:12264   1st Qu.:-0.0016000  \n",
       " Median :104.5   Median :273.2   Median :12330   Median : 0.0009000  \n",
       " Mean   :104.7   Mean   :276.2   Mean   :12295   Mean   : 0.0009086  \n",
       " 3rd Qu.:105.3   3rd Qu.:298.0   3rd Qu.:12347   3rd Qu.: 0.0035000  \n",
       " Max.   :106.5   Max.   :307.1   Max.   :12387   Max.   : 0.0064000  \n",
       "    H_Sales       \n",
       " Min.   :1328690  \n",
       " 1st Qu.:1576758  \n",
       " Median :1864265  \n",
       " Mean   :1854927  \n",
       " 3rd Qu.:2048143  \n",
       " Max.   :2625737  "
      ]
     },
     "metadata": {},
     "output_type": "display_data"
    },
    {
     "data": {
      "text/html": [
       "35"
      ],
      "text/latex": [
       "35"
      ],
      "text/markdown": [
       "35"
      ],
      "text/plain": [
       "[1] 35"
      ]
     },
     "metadata": {},
     "output_type": "display_data"
    }
   ],
   "source": [
    "summary(data)\n",
    "nrow(data)"
   ]
  },
  {
   "cell_type": "markdown",
   "metadata": {},
   "source": [
    "Next, I utilize the caret package to partition the data into a train and test set. The Train set will have 3/4 of the data\n",
    "and the Test will haved the other 1/4 of the data."
   ]
  },
  {
   "cell_type": "code",
   "execution_count": 302,
   "metadata": {
    "collapsed": true
   },
   "outputs": [],
   "source": [
    "library(caret)\n",
    "inTrain = createDataPartition(data$H_Sales, p = 3/4, list = FALSE)\n",
    "train=data[inTrain,]\n",
    "test=data[-inTrain,]"
   ]
  },
  {
   "cell_type": "markdown",
   "metadata": {},
   "source": [
    "I then attach the Column Names to the test dataset."
   ]
  },
  {
   "cell_type": "code",
   "execution_count": 303,
   "metadata": {
    "collapsed": true
   },
   "outputs": [],
   "source": [
    "columnnames<-data[1,]\n",
    "test<-rbind(columnnames,test)"
   ]
  },
  {
   "cell_type": "code",
   "execution_count": 304,
   "metadata": {},
   "outputs": [
    {
     "data": {
      "text/html": [
       "<table>\n",
       "<thead><tr><th></th><th scope=col>IPI</th><th scope=col>PLASTICPRICE</th><th scope=col>WORKPEOPLE</th><th scope=col>INFLATION</th><th scope=col>H_Sales</th></tr></thead>\n",
       "<tbody>\n",
       "\t<tr><th scope=row>1</th><td>102.4  </td><td>297.8  </td><td>12110  </td><td> 0.0037</td><td>2539958</td></tr>\n",
       "\t<tr><th scope=row>4</th><td>104.1  </td><td>300.5  </td><td>12150  </td><td> 0.0035</td><td>2471810</td></tr>\n",
       "\t<tr><th scope=row>12</th><td>106.0  </td><td>285.4  </td><td>12299  </td><td>-0.0047</td><td>2346253</td></tr>\n",
       "\t<tr><th scope=row>18</th><td>105.5  </td><td>273.8  </td><td>12352  </td><td> 0.0001</td><td>1995260</td></tr>\n",
       "\t<tr><th scope=row>19</th><td>105.6  </td><td>270.7  </td><td>12347  </td><td>-0.0014</td><td>1570882</td></tr>\n",
       "\t<tr><th scope=row>24</th><td>104.5  </td><td>256.7  </td><td>12387  </td><td> 0.0017</td><td>1463760</td></tr>\n",
       "</tbody>\n",
       "</table>\n"
      ],
      "text/latex": [
       "\\begin{tabular}{r|lllll}\n",
       "  & IPI & PLASTICPRICE & WORKPEOPLE & INFLATION & H\\_Sales\\\\\n",
       "\\hline\n",
       "\t1 & 102.4   & 297.8   & 12110   &  0.0037 & 2539958\\\\\n",
       "\t4 & 104.1   & 300.5   & 12150   &  0.0035 & 2471810\\\\\n",
       "\t12 & 106.0   & 285.4   & 12299   & -0.0047 & 2346253\\\\\n",
       "\t18 & 105.5   & 273.8   & 12352   &  0.0001 & 1995260\\\\\n",
       "\t19 & 105.6   & 270.7   & 12347   & -0.0014 & 1570882\\\\\n",
       "\t24 & 104.5   & 256.7   & 12387   &  0.0017 & 1463760\\\\\n",
       "\\end{tabular}\n"
      ],
      "text/markdown": [
       "\n",
       "| <!--/--> | IPI | PLASTICPRICE | WORKPEOPLE | INFLATION | H_Sales | \n",
       "|---|---|---|---|---|---|\n",
       "| 1 | 102.4   | 297.8   | 12110   |  0.0037 | 2539958 | \n",
       "| 4 | 104.1   | 300.5   | 12150   |  0.0035 | 2471810 | \n",
       "| 12 | 106.0   | 285.4   | 12299   | -0.0047 | 2346253 | \n",
       "| 18 | 105.5   | 273.8   | 12352   |  0.0001 | 1995260 | \n",
       "| 19 | 105.6   | 270.7   | 12347   | -0.0014 | 1570882 | \n",
       "| 24 | 104.5   | 256.7   | 12387   |  0.0017 | 1463760 | \n",
       "\n",
       "\n"
      ],
      "text/plain": [
       "   IPI   PLASTICPRICE WORKPEOPLE INFLATION H_Sales\n",
       "1  102.4 297.8        12110       0.0037   2539958\n",
       "4  104.1 300.5        12150       0.0035   2471810\n",
       "12 106.0 285.4        12299      -0.0047   2346253\n",
       "18 105.5 273.8        12352       0.0001   1995260\n",
       "19 105.6 270.7        12347      -0.0014   1570882\n",
       "24 104.5 256.7        12387       0.0017   1463760"
      ]
     },
     "metadata": {},
     "output_type": "display_data"
    }
   ],
   "source": [
    "head(test)"
   ]
  },
  {
   "cell_type": "markdown",
   "metadata": {},
   "source": [
    "I then remove the Target variable (H_Sales) from the Test dataset."
   ]
  },
  {
   "cell_type": "code",
   "execution_count": 305,
   "metadata": {
    "collapsed": true
   },
   "outputs": [],
   "source": [
    "actualValues<-test[5]\n",
    "test<-test[-5]"
   ]
  },
  {
   "cell_type": "markdown",
   "metadata": {},
   "source": [
    "I look at the number of rows and the summaries of the resulting Train and Test datasets. Unfortunately, due to the limitation of the amount of data provided, there are only 9 rows in the test dataset and 27 rows in the train dataset."
   ]
  },
  {
   "cell_type": "code",
   "execution_count": 308,
   "metadata": {},
   "outputs": [
    {
     "name": "stdout",
     "output_type": "stream",
     "text": [
      "[1] 27\n"
     ]
    },
    {
     "data": {
      "text/html": [
       "<table>\n",
       "<thead><tr><th></th><th scope=col>IPI</th><th scope=col>PLASTICPRICE</th><th scope=col>WORKPEOPLE</th><th scope=col>INFLATION</th><th scope=col>H_Sales</th></tr></thead>\n",
       "<tbody>\n",
       "\t<tr><th scope=row>1</th><td>102.4  </td><td>297.8  </td><td>12110  </td><td> 0.0037</td><td>2539958</td></tr>\n",
       "\t<tr><th scope=row>2</th><td>103.2  </td><td>300.0  </td><td>12125  </td><td> 0.0064</td><td>1920039</td></tr>\n",
       "\t<tr><th scope=row>3</th><td>104.0  </td><td>301.1  </td><td>12142  </td><td> 0.0033</td><td>2534601</td></tr>\n",
       "\t<tr><th scope=row>5</th><td>104.5  </td><td>298.2  </td><td>12171  </td><td> 0.0019</td><td>1864265</td></tr>\n",
       "\t<tr><th scope=row>6</th><td>104.9  </td><td>300.2  </td><td>12184  </td><td>-0.0004</td><td>2177834</td></tr>\n",
       "\t<tr><th scope=row>7</th><td>105.0  </td><td>302.8  </td><td>12208  </td><td>-0.0017</td><td>2000570</td></tr>\n",
       "</tbody>\n",
       "</table>\n"
      ],
      "text/latex": [
       "\\begin{tabular}{r|lllll}\n",
       "  & IPI & PLASTICPRICE & WORKPEOPLE & INFLATION & H\\_Sales\\\\\n",
       "\\hline\n",
       "\t1 & 102.4   & 297.8   & 12110   &  0.0037 & 2539958\\\\\n",
       "\t2 & 103.2   & 300.0   & 12125   &  0.0064 & 1920039\\\\\n",
       "\t3 & 104.0   & 301.1   & 12142   &  0.0033 & 2534601\\\\\n",
       "\t5 & 104.5   & 298.2   & 12171   &  0.0019 & 1864265\\\\\n",
       "\t6 & 104.9   & 300.2   & 12184   & -0.0004 & 2177834\\\\\n",
       "\t7 & 105.0   & 302.8   & 12208   & -0.0017 & 2000570\\\\\n",
       "\\end{tabular}\n"
      ],
      "text/markdown": [
       "\n",
       "| <!--/--> | IPI | PLASTICPRICE | WORKPEOPLE | INFLATION | H_Sales | \n",
       "|---|---|---|---|---|---|\n",
       "| 1 | 102.4   | 297.8   | 12110   |  0.0037 | 2539958 | \n",
       "| 2 | 103.2   | 300.0   | 12125   |  0.0064 | 1920039 | \n",
       "| 3 | 104.0   | 301.1   | 12142   |  0.0033 | 2534601 | \n",
       "| 5 | 104.5   | 298.2   | 12171   |  0.0019 | 1864265 | \n",
       "| 6 | 104.9   | 300.2   | 12184   | -0.0004 | 2177834 | \n",
       "| 7 | 105.0   | 302.8   | 12208   | -0.0017 | 2000570 | \n",
       "\n",
       "\n"
      ],
      "text/plain": [
       "  IPI   PLASTICPRICE WORKPEOPLE INFLATION H_Sales\n",
       "1 102.4 297.8        12110       0.0037   2539958\n",
       "2 103.2 300.0        12125       0.0064   1920039\n",
       "3 104.0 301.1        12142       0.0033   2534601\n",
       "5 104.5 298.2        12171       0.0019   1864265\n",
       "6 104.9 300.2        12184      -0.0004   2177834\n",
       "7 105.0 302.8        12208      -0.0017   2000570"
      ]
     },
     "metadata": {},
     "output_type": "display_data"
    },
    {
     "data": {
      "text/plain": [
       "      IPI         PLASTICPRICE     WORKPEOPLE      INFLATION        \n",
       " Min.   :102.4   Min.   :254.0   Min.   :12110   Min.   :-0.005700  \n",
       " 1st Qu.:104.3   1st Qu.:260.1   1st Qu.:12238   1st Qu.:-0.001600  \n",
       " Median :104.8   Median :274.0   Median :12325   Median : 0.000900  \n",
       " Mean   :104.7   Mean   :277.9   Mean   :12289   Mean   : 0.001019  \n",
       " 3rd Qu.:105.2   3rd Qu.:299.1   3rd Qu.:12346   3rd Qu.: 0.003600  \n",
       " Max.   :106.5   Max.   :307.1   Max.   :12375   Max.   : 0.006400  \n",
       "    H_Sales       \n",
       " Min.   :1328690  \n",
       " 1st Qu.:1559110  \n",
       " Median :1864265  \n",
       " Mean   :1845164  \n",
       " 3rd Qu.:2035785  \n",
       " Max.   :2625737  "
      ]
     },
     "metadata": {},
     "output_type": "display_data"
    }
   ],
   "source": [
    "print(nrow(train))\n",
    "head(train)\n",
    "summary(train)"
   ]
  },
  {
   "cell_type": "code",
   "execution_count": 309,
   "metadata": {},
   "outputs": [
    {
     "name": "stdout",
     "output_type": "stream",
     "text": [
      "[1] 9\n"
     ]
    },
    {
     "data": {
      "text/html": [
       "<table>\n",
       "<thead><tr><th></th><th scope=col>IPI</th><th scope=col>PLASTICPRICE</th><th scope=col>WORKPEOPLE</th><th scope=col>INFLATION</th></tr></thead>\n",
       "<tbody>\n",
       "\t<tr><th scope=row>1</th><td>102.4  </td><td>297.8  </td><td>12110  </td><td> 0.0037</td></tr>\n",
       "\t<tr><th scope=row>4</th><td>104.1  </td><td>300.5  </td><td>12150  </td><td> 0.0035</td></tr>\n",
       "\t<tr><th scope=row>12</th><td>106.0  </td><td>285.4  </td><td>12299  </td><td>-0.0047</td></tr>\n",
       "\t<tr><th scope=row>18</th><td>105.5  </td><td>273.8  </td><td>12352  </td><td> 0.0001</td></tr>\n",
       "\t<tr><th scope=row>19</th><td>105.6  </td><td>270.7  </td><td>12347  </td><td>-0.0014</td></tr>\n",
       "\t<tr><th scope=row>24</th><td>104.5  </td><td>256.7  </td><td>12387  </td><td> 0.0017</td></tr>\n",
       "</tbody>\n",
       "</table>\n"
      ],
      "text/latex": [
       "\\begin{tabular}{r|llll}\n",
       "  & IPI & PLASTICPRICE & WORKPEOPLE & INFLATION\\\\\n",
       "\\hline\n",
       "\t1 & 102.4   & 297.8   & 12110   &  0.0037\\\\\n",
       "\t4 & 104.1   & 300.5   & 12150   &  0.0035\\\\\n",
       "\t12 & 106.0   & 285.4   & 12299   & -0.0047\\\\\n",
       "\t18 & 105.5   & 273.8   & 12352   &  0.0001\\\\\n",
       "\t19 & 105.6   & 270.7   & 12347   & -0.0014\\\\\n",
       "\t24 & 104.5   & 256.7   & 12387   &  0.0017\\\\\n",
       "\\end{tabular}\n"
      ],
      "text/markdown": [
       "\n",
       "| <!--/--> | IPI | PLASTICPRICE | WORKPEOPLE | INFLATION | \n",
       "|---|---|---|---|---|---|\n",
       "| 1 | 102.4   | 297.8   | 12110   |  0.0037 | \n",
       "| 4 | 104.1   | 300.5   | 12150   |  0.0035 | \n",
       "| 12 | 106.0   | 285.4   | 12299   | -0.0047 | \n",
       "| 18 | 105.5   | 273.8   | 12352   |  0.0001 | \n",
       "| 19 | 105.6   | 270.7   | 12347   | -0.0014 | \n",
       "| 24 | 104.5   | 256.7   | 12387   |  0.0017 | \n",
       "\n",
       "\n"
      ],
      "text/plain": [
       "   IPI   PLASTICPRICE WORKPEOPLE INFLATION\n",
       "1  102.4 297.8        12110       0.0037  \n",
       "4  104.1 300.5        12150       0.0035  \n",
       "12 106.0 285.4        12299      -0.0047  \n",
       "18 105.5 273.8        12352       0.0001  \n",
       "19 105.6 270.7        12347      -0.0014  \n",
       "24 104.5 256.7        12387       0.0017  "
      ]
     },
     "metadata": {},
     "output_type": "display_data"
    },
    {
     "data": {
      "text/plain": [
       "      IPI         PLASTICPRICE     WORKPEOPLE      INFLATION         \n",
       " Min.   :102.4   Min.   :254.3   Min.   :12110   Min.   :-0.0047000  \n",
       " 1st Qu.:104.1   1st Qu.:260.7   1st Qu.:12299   1st Qu.:-0.0014000  \n",
       " Median :104.1   Median :270.7   Median :12330   Median : 0.0017000  \n",
       " Mean   :104.4   Mean   :273.6   Mean   :12295   Mean   : 0.0008889  \n",
       " 3rd Qu.:105.5   3rd Qu.:285.4   3rd Qu.:12352   3rd Qu.: 0.0035000  \n",
       " Max.   :106.0   Max.   :300.5   Max.   :12387   Max.   : 0.0043000  "
      ]
     },
     "metadata": {},
     "output_type": "display_data"
    }
   ],
   "source": [
    "print(nrow(test))\n",
    "head(test)\n",
    "summary(test)"
   ]
  },
  {
   "cell_type": "markdown",
   "metadata": {},
   "source": [
    "I then create the first regression model. The dependent variable is Department H's sales. I assess the P-Values to begin a manual backwards elimination process in order to limit the model to only the variables that have a significant relationship with H_Sales."
   ]
  },
  {
   "cell_type": "code",
   "execution_count": 310,
   "metadata": {},
   "outputs": [
    {
     "data": {
      "text/plain": [
       "\n",
       "Call:\n",
       "lm(formula = H_Sales ~ IPI + PLASTICPRICE + INFLATION + WORKPEOPLE, \n",
       "    data = train)\n",
       "\n",
       "Residuals:\n",
       "    Min      1Q  Median      3Q     Max \n",
       "-326855 -189255   16959  165422  439711 \n",
       "\n",
       "Coefficients:\n",
       "             Estimate Std. Error t value Pr(>|t|)  \n",
       "(Intercept)  -6925139   21733545  -0.319   0.7530  \n",
       "IPI            -10879     107481  -0.101   0.9203  \n",
       "PLASTICPRICE    16956       8849   1.916   0.0684 .\n",
       "INFLATION    11518141   17575300   0.655   0.5190  \n",
       "WORKPEOPLE        422       2218   0.190   0.8508  \n",
       "---\n",
       "Signif. codes:  0 ‘***’ 0.001 ‘**’ 0.01 ‘*’ 0.05 ‘.’ 0.1 ‘ ’ 1\n",
       "\n",
       "Residual standard error: 251200 on 22 degrees of freedom\n",
       "Multiple R-squared:  0.6198,\tAdjusted R-squared:  0.5506 \n",
       "F-statistic: 8.964 on 4 and 22 DF,  p-value: 0.0001878\n"
      ]
     },
     "metadata": {},
     "output_type": "display_data"
    }
   ],
   "source": [
    "model<-lm(H_Sales~IPI+PLASTICPRICE+INFLATION+WORKPEOPLE,data=train)\n",
    "summary(model)"
   ]
  },
  {
   "cell_type": "code",
   "execution_count": 311,
   "metadata": {},
   "outputs": [
    {
     "data": {
      "text/plain": [
       "\n",
       "Call:\n",
       "lm(formula = H_Sales ~ PLASTICPRICE + INFLATION + WORKPEOPLE, \n",
       "    data = train)\n",
       "\n",
       "Residuals:\n",
       "    Min      1Q  Median      3Q     Max \n",
       "-320942 -185221   11351  169162  445927 \n",
       "\n",
       "Coefficients:\n",
       "               Estimate Std. Error t value Pr(>|t|)   \n",
       "(Intercept)  -5672592.4 17477812.1  -0.325  0.74845   \n",
       "PLASTICPRICE    16259.5     5446.3   2.985  0.00661 **\n",
       "INFLATION    11515571.1 17192966.2   0.670  0.50966   \n",
       "WORKPEOPLE        243.2     1311.1   0.185  0.85450   \n",
       "---\n",
       "Signif. codes:  0 ‘***’ 0.001 ‘**’ 0.01 ‘*’ 0.05 ‘.’ 0.1 ‘ ’ 1\n",
       "\n",
       "Residual standard error: 245700 on 23 degrees of freedom\n",
       "Multiple R-squared:  0.6196,\tAdjusted R-squared:   0.57 \n",
       "F-statistic: 12.49 on 3 and 23 DF,  p-value: 4.743e-05\n"
      ]
     },
     "metadata": {},
     "output_type": "display_data"
    }
   ],
   "source": [
    "model<-lm(H_Sales~PLASTICPRICE+INFLATION+WORKPEOPLE,data=train)\n",
    "summary(model)"
   ]
  },
  {
   "cell_type": "code",
   "execution_count": 312,
   "metadata": {},
   "outputs": [
    {
     "data": {
      "text/plain": [
       "\n",
       "Call:\n",
       "lm(formula = H_Sales ~ PLASTICPRICE + INFLATION, data = train)\n",
       "\n",
       "Residuals:\n",
       "    Min      1Q  Median      3Q     Max \n",
       "-318222 -177155    3613  177264  454774 \n",
       "\n",
       "Coefficients:\n",
       "             Estimate Std. Error t value Pr(>|t|)    \n",
       "(Intercept)  -2433887     687506  -3.540  0.00167 ** \n",
       "PLASTICPRICE    15363       2461   6.243 1.88e-06 ***\n",
       "INFLATION     9869500   14425417   0.684  0.50042    \n",
       "---\n",
       "Signif. codes:  0 ‘***’ 0.001 ‘**’ 0.01 ‘*’ 0.05 ‘.’ 0.1 ‘ ’ 1\n",
       "\n",
       "Residual standard error: 240700 on 24 degrees of freedom\n",
       "Multiple R-squared:  0.619,\tAdjusted R-squared:  0.5873 \n",
       "F-statistic:  19.5 on 2 and 24 DF,  p-value: 9.354e-06\n"
      ]
     },
     "metadata": {},
     "output_type": "display_data"
    }
   ],
   "source": [
    "model<-lm(H_Sales~PLASTICPRICE+INFLATION,data=train)\n",
    "summary(model)"
   ]
  },
  {
   "cell_type": "code",
   "execution_count": 313,
   "metadata": {},
   "outputs": [
    {
     "data": {
      "text/plain": [
       "\n",
       "Call:\n",
       "lm(formula = H_Sales ~ PLASTICPRICE, data = train)\n",
       "\n",
       "Residuals:\n",
       "    Min      1Q  Median      3Q     Max \n",
       "-337603 -188024  -34825  205639  397096 \n",
       "\n",
       "Coefficients:\n",
       "             Estimate Std. Error t value Pr(>|t|)    \n",
       "(Intercept)  -2361644     672082  -3.514   0.0017 ** \n",
       "PLASTICPRICE    15140       2413   6.274 1.45e-06 ***\n",
       "---\n",
       "Signif. codes:  0 ‘***’ 0.001 ‘**’ 0.01 ‘*’ 0.05 ‘.’ 0.1 ‘ ’ 1\n",
       "\n",
       "Residual standard error: 238200 on 25 degrees of freedom\n",
       "Multiple R-squared:  0.6116,\tAdjusted R-squared:  0.596 \n",
       "F-statistic: 39.36 on 1 and 25 DF,  p-value: 1.452e-06\n"
      ]
     },
     "metadata": {},
     "output_type": "display_data"
    }
   ],
   "source": [
    "model<-lm(H_Sales~PLASTICPRICE,data=train)\n",
    "summary(model)"
   ]
  },
  {
   "cell_type": "markdown",
   "metadata": {
    "collapsed": true
   },
   "source": [
    "For a 1-point increase of the Plastic Price Index (PPI), there is an increase in Department H's sales of $15140. The  model has an R-Squared value of 0.6124, meaning the model describes 61% of the variation in Department H's sales data. I will now predict Department H's sales on the test set using this model."
   ]
  },
  {
   "cell_type": "code",
   "execution_count": 314,
   "metadata": {},
   "outputs": [
    {
     "data": {
      "text/html": [
       "<table>\n",
       "<thead><tr><th></th><th scope=col>IPI</th><th scope=col>PLASTICPRICE</th><th scope=col>WORKPEOPLE</th><th scope=col>INFLATION</th><th scope=col>prediction</th></tr></thead>\n",
       "<tbody>\n",
       "\t<tr><th scope=row>1</th><td>102.4  </td><td>297.8  </td><td>12110  </td><td> 0.0037</td><td>2146888</td></tr>\n",
       "\t<tr><th scope=row>4</th><td>104.1  </td><td>300.5  </td><td>12150  </td><td> 0.0035</td><td>2187765</td></tr>\n",
       "\t<tr><th scope=row>12</th><td>106.0  </td><td>285.4  </td><td>12299  </td><td>-0.0047</td><td>1959159</td></tr>\n",
       "\t<tr><th scope=row>18</th><td>105.5  </td><td>273.8  </td><td>12352  </td><td> 0.0001</td><td>1783541</td></tr>\n",
       "\t<tr><th scope=row>19</th><td>105.6  </td><td>270.7  </td><td>12347  </td><td>-0.0014</td><td>1736609</td></tr>\n",
       "\t<tr><th scope=row>24</th><td>104.5  </td><td>256.7  </td><td>12387  </td><td> 0.0017</td><td>1524656</td></tr>\n",
       "</tbody>\n",
       "</table>\n"
      ],
      "text/latex": [
       "\\begin{tabular}{r|lllll}\n",
       "  & IPI & PLASTICPRICE & WORKPEOPLE & INFLATION & prediction\\\\\n",
       "\\hline\n",
       "\t1 & 102.4   & 297.8   & 12110   &  0.0037 & 2146888\\\\\n",
       "\t4 & 104.1   & 300.5   & 12150   &  0.0035 & 2187765\\\\\n",
       "\t12 & 106.0   & 285.4   & 12299   & -0.0047 & 1959159\\\\\n",
       "\t18 & 105.5   & 273.8   & 12352   &  0.0001 & 1783541\\\\\n",
       "\t19 & 105.6   & 270.7   & 12347   & -0.0014 & 1736609\\\\\n",
       "\t24 & 104.5   & 256.7   & 12387   &  0.0017 & 1524656\\\\\n",
       "\\end{tabular}\n"
      ],
      "text/markdown": [
       "\n",
       "| <!--/--> | IPI | PLASTICPRICE | WORKPEOPLE | INFLATION | prediction | \n",
       "|---|---|---|---|---|---|\n",
       "| 1 | 102.4   | 297.8   | 12110   |  0.0037 | 2146888 | \n",
       "| 4 | 104.1   | 300.5   | 12150   |  0.0035 | 2187765 | \n",
       "| 12 | 106.0   | 285.4   | 12299   | -0.0047 | 1959159 | \n",
       "| 18 | 105.5   | 273.8   | 12352   |  0.0001 | 1783541 | \n",
       "| 19 | 105.6   | 270.7   | 12347   | -0.0014 | 1736609 | \n",
       "| 24 | 104.5   | 256.7   | 12387   |  0.0017 | 1524656 | \n",
       "\n",
       "\n"
      ],
      "text/plain": [
       "   IPI   PLASTICPRICE WORKPEOPLE INFLATION prediction\n",
       "1  102.4 297.8        12110       0.0037   2146888   \n",
       "4  104.1 300.5        12150       0.0035   2187765   \n",
       "12 106.0 285.4        12299      -0.0047   1959159   \n",
       "18 105.5 273.8        12352       0.0001   1783541   \n",
       "19 105.6 270.7        12347      -0.0014   1736609   \n",
       "24 104.5 256.7        12387       0.0017   1524656   "
      ]
     },
     "metadata": {},
     "output_type": "display_data"
    }
   ],
   "source": [
    "test$prediction <- predict(model, test, type=\"response\")\n",
    "head(test)"
   ]
  },
  {
   "cell_type": "markdown",
   "metadata": {},
   "source": [
    "I then re-attach the actual values for H_Sales to the test dataframe."
   ]
  },
  {
   "cell_type": "code",
   "execution_count": 315,
   "metadata": {},
   "outputs": [
    {
     "data": {
      "text/html": [
       "<table>\n",
       "<thead><tr><th></th><th scope=col>IPI</th><th scope=col>PLASTICPRICE</th><th scope=col>WORKPEOPLE</th><th scope=col>INFLATION</th><th scope=col>prediction</th><th scope=col>H_Sales</th></tr></thead>\n",
       "<tbody>\n",
       "\t<tr><th scope=row>1</th><td>102.4  </td><td>297.8  </td><td>12110  </td><td> 0.0037</td><td>2146888</td><td>2539958</td></tr>\n",
       "\t<tr><th scope=row>4</th><td>104.1  </td><td>300.5  </td><td>12150  </td><td> 0.0035</td><td>2187765</td><td>2471810</td></tr>\n",
       "\t<tr><th scope=row>12</th><td>106.0  </td><td>285.4  </td><td>12299  </td><td>-0.0047</td><td>1959159</td><td>2346253</td></tr>\n",
       "\t<tr><th scope=row>18</th><td>105.5  </td><td>273.8  </td><td>12352  </td><td> 0.0001</td><td>1783541</td><td>1995260</td></tr>\n",
       "\t<tr><th scope=row>19</th><td>105.6  </td><td>270.7  </td><td>12347  </td><td>-0.0014</td><td>1736609</td><td>1570882</td></tr>\n",
       "\t<tr><th scope=row>24</th><td>104.5  </td><td>256.7  </td><td>12387  </td><td> 0.0017</td><td>1524656</td><td>1463760</td></tr>\n",
       "</tbody>\n",
       "</table>\n"
      ],
      "text/latex": [
       "\\begin{tabular}{r|llllll}\n",
       "  & IPI & PLASTICPRICE & WORKPEOPLE & INFLATION & prediction & H\\_Sales\\\\\n",
       "\\hline\n",
       "\t1 & 102.4   & 297.8   & 12110   &  0.0037 & 2146888 & 2539958\\\\\n",
       "\t4 & 104.1   & 300.5   & 12150   &  0.0035 & 2187765 & 2471810\\\\\n",
       "\t12 & 106.0   & 285.4   & 12299   & -0.0047 & 1959159 & 2346253\\\\\n",
       "\t18 & 105.5   & 273.8   & 12352   &  0.0001 & 1783541 & 1995260\\\\\n",
       "\t19 & 105.6   & 270.7   & 12347   & -0.0014 & 1736609 & 1570882\\\\\n",
       "\t24 & 104.5   & 256.7   & 12387   &  0.0017 & 1524656 & 1463760\\\\\n",
       "\\end{tabular}\n"
      ],
      "text/markdown": [
       "\n",
       "| <!--/--> | IPI | PLASTICPRICE | WORKPEOPLE | INFLATION | prediction | H_Sales | \n",
       "|---|---|---|---|---|---|\n",
       "| 1 | 102.4   | 297.8   | 12110   |  0.0037 | 2146888 | 2539958 | \n",
       "| 4 | 104.1   | 300.5   | 12150   |  0.0035 | 2187765 | 2471810 | \n",
       "| 12 | 106.0   | 285.4   | 12299   | -0.0047 | 1959159 | 2346253 | \n",
       "| 18 | 105.5   | 273.8   | 12352   |  0.0001 | 1783541 | 1995260 | \n",
       "| 19 | 105.6   | 270.7   | 12347   | -0.0014 | 1736609 | 1570882 | \n",
       "| 24 | 104.5   | 256.7   | 12387   |  0.0017 | 1524656 | 1463760 | \n",
       "\n",
       "\n"
      ],
      "text/plain": [
       "   IPI   PLASTICPRICE WORKPEOPLE INFLATION prediction H_Sales\n",
       "1  102.4 297.8        12110       0.0037   2146888    2539958\n",
       "4  104.1 300.5        12150       0.0035   2187765    2471810\n",
       "12 106.0 285.4        12299      -0.0047   1959159    2346253\n",
       "18 105.5 273.8        12352       0.0001   1783541    1995260\n",
       "19 105.6 270.7        12347      -0.0014   1736609    1570882\n",
       "24 104.5 256.7        12387       0.0017   1524656    1463760"
      ]
     },
     "metadata": {},
     "output_type": "display_data"
    }
   ],
   "source": [
    "test<-cbind(test,actualValues)\n",
    "head(test)"
   ]
  },
  {
   "cell_type": "code",
   "execution_count": 316,
   "metadata": {},
   "outputs": [
    {
     "name": "stdout",
     "output_type": "stream",
     "text": [
      "[1] \"Correlation Accuracy:\"\n",
      "[1] 0.8959708\n"
     ]
    },
    {
     "data": {
      "image/png": "[encoded data removed]",
      "text/plain": [
       "plot without title"
      ]
     },
     "metadata": {},
     "output_type": "display_data"
    }
   ],
   "source": [
    "print('Correlation Accuracy:')\n",
    "correlation_accuracy<-cor(test$H_Sales,test$prediction)\n",
    "print(correlation_accuracy)\n",
    "plot(test$H_Sales,test$prediction)\n"
   ]
  },
  {
   "cell_type": "markdown",
   "metadata": {},
   "source": [
    "## It is clear there is a significant relationship between Plastic Price Index and Department H Sales."
   ]
  },
  {
   "cell_type": "markdown",
   "metadata": {},
   "source": [
    "# Visual Relationship"
   ]
  },
  {
   "cell_type": "code",
   "execution_count": 317,
   "metadata": {},
   "outputs": [
    {
     "data": {},
     "metadata": {},
     "output_type": "display_data"
    },
    {
     "data": {
      "image/png": "[encoded data removed]",
      "text/plain": [
       "plot without title"
      ]
     },
     "metadata": {},
     "output_type": "display_data"
    }
   ],
   "source": [
    "pred_df<-data.frame(prediction=predict(model,data), PPI=data$PLASTICPRICE )\n",
    "\n",
    "\n",
    "library (ggplot2)\n",
    "plt <- ggplot(data=data,aes(x=PLASTICPRICE,y=H_Sales)) + geom_point() +\n",
    "  labs(title=\"Relationship between Plastic Price Index and Department H Sales\",x=\"Plastic Price Index\", y=\"Department H Sales\") +geom_line(data=pred_df, color='red',aes(x=PPI, y=prediction))\n",
    "\n",
    "\n",
    "\n",
    "plt\n",
    "#plot(data$PLASTICPRICE,data$H_Sales)\n",
    "#"
   ]
  },
  {
   "cell_type": "code",
   "execution_count": null,
   "metadata": {
    "collapsed": true
   },
   "outputs": [],
   "source": []
  }
 ],
 "metadata": {
  "kernelspec": {
   "display_name": "R",
   "language": "R",
   "name": "ir"
  },
  "language_info": {
   "codemirror_mode": "r",
   "file_extension": ".r",
   "mimetype": "text/x-r-source",
   "name": "R",
   "pygments_lexer": "r",
   "version": "3.4.1"
  }
 },
 "nbformat": 4,
 "nbformat_minor": 2
}
